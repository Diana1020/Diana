{
 "cells": [
  {
   "cell_type": "markdown",
   "metadata": {
    "cell_id": "e37cb69cb73a49c2ad07cf670e073cb7",
    "deepnote_cell_height": 156.390625,
    "deepnote_cell_type": "markdown",
    "id": "XUZ1dFPHzAHl"
   },
   "source": [
    "# Laboratorio 4: Spark y EDA 🐼\n",
    "\n",
    "<center><strong>MDS7202: Laboratorio de Programación Científica para Ciencia de Datos</strong></center>"
   ]
  },
  {
   "cell_type": "markdown",
   "metadata": {
    "id": "PkEUN6c8S-E_"
   },
   "source": [
    "### Cuerpo Docente:\n",
    "\n",
    "- Profesores: Ignacio Meza, Sebastián Tinoco\n",
    "- Auxiliar: Catherine Benavides\n",
    "- Ayudante: Nicolás Ojeda, Eduardo Moya"
   ]
  },
  {
   "cell_type": "markdown",
   "metadata": {
    "cell_id": "8ebcb0f2f70c43319279fdd28c13fe89",
    "deepnote_cell_height": 171.796875,
    "deepnote_cell_type": "markdown",
    "id": "tXflExjqzAHr"
   },
   "source": [
    "### Equipo: SUPER IMPORTANTE - notebooks sin nombre no serán revisados\n",
    "\n",
    "- Nombre de alumno 1: Diana Escobar\n",
    "- Nombre de alumno 2: Matías Donoso\n"
   ]
  },
  {
   "cell_type": "markdown",
   "metadata": {
    "cell_id": "290822720f3e4484b09e762655bcdb76",
    "deepnote_cell_height": 62,
    "deepnote_cell_type": "markdown",
    "id": "AD-V0bbZzAHr"
   },
   "source": [
    "### **Link de repositorio de GitHub:** `https://github.com/Diana1020/Diana`"
   ]
  },
  {
   "cell_type": "markdown",
   "metadata": {
    "cell_id": "60255b81ff0349ad9b18f598a8d71386",
    "deepnote_cell_height": 216,
    "deepnote_cell_type": "markdown",
    "id": "hnYD2hBMAwXf",
    "tags": []
   },
   "source": [
    "### Reglas:\n",
    "\n",
    "- **Grupos de 2 personas**\n",
    "- Fecha de entrega: 7 días desde la publicación, 3 días de atraso con 1 punto de descuento c/u.\n",
    "- Instrucciones del lab el viernes a las 16:15 en formato online. Asistencia no es obligatoria.\n",
    "- <u>Prohibidas las copias</u>. Cualquier intento de copia será debidamente penalizado con el reglamento de la escuela.\n",
    "- Tienen que subir el laboratorio a u-cursos Y a su repositorio de github. Labs que no estén en u-cursos no serán revisados. Recuerden que el repositorio también tiene nota.\n",
    "- Cualquier duda fuera del horario de clases al foro. Mensajes al equipo docente serán respondidos por este medio.\n",
    "- Pueden usar cualquer material del curso que estimen conveniente."
   ]
  },
  {
   "cell_type": "markdown",
   "metadata": {
    "cell_id": "5bf6f5f66dcd4da9a6926774cec108ab",
    "deepnote_cell_height": 114.390625,
    "deepnote_cell_type": "markdown",
    "id": "xzz695obAwXg",
    "tags": []
   },
   "source": [
    "### Temas a tratar\n",
    "\n",
    "- Introducción al manejo de datos tabulares por medio de la libreria `pandas`."
   ]
  },
  {
   "cell_type": "markdown",
   "metadata": {
    "cell_id": "50ec30f08f2548a29bc979ed1741f5a0",
    "deepnote_cell_height": 243.390625,
    "deepnote_cell_type": "markdown",
    "id": "6uBLPj1PzAHs"
   },
   "source": [
    "### Objetivos principales del laboratorio\n",
    "\n",
    "- Entender, aplicar y aprovechar las ventajas que nos ofrece la libreria `pyspark` para manejar datos tabulares de gran volúmen.\n",
    "- Crear gráficos para el desarrollo de Análisis de Datos Exploratorios (EDA)."
   ]
  },
  {
   "cell_type": "markdown",
   "metadata": {
    "id": "f7hHEyTgm12s"
   },
   "source": [
    "### Datos del Lab\n",
    "\n",
    "- Base de datos: https://gitlab.com/imezadelajara/datos_clase_7_mds7202/-/raw/main/datos_lab_spark.parquet\n",
    "- Objeto serializado: https://gitlab.com/imezadelajara/datos_clase_7_mds7202/-/raw/main/object.pkl?inline=false"
   ]
  },
  {
   "cell_type": "markdown",
   "metadata": {
    "id": "6CrDdk5NRAKe"
   },
   "source": [
    "## Preguntas Teóricas [12 puntos]\n",
    "(2 por pregunta)"
   ]
  },
  {
   "cell_type": "markdown",
   "metadata": {
    "id": "EmDMGUTxLp7M"
   },
   "source": [
    "<center>\n",
    "<img src=\"https://img.buzzfeed.com/buzzfeed-static/static/2018-08/1/17/enhanced/buzzfeed-prod-web-05/anigif_enhanced-9173-1533160033-1.gif\" width=350 />\n",
    "\n"
   ]
  },
  {
   "cell_type": "markdown",
   "metadata": {
    "id": "pGZZcxMWRdIa"
   },
   "source": [
    "Responda en  máximo 5 líneas las siguientes preguntas:\n",
    "1. ¿Qué es Apache Spark y cuáles son sus principales ventajas sobre Pandas?\n",
    "2. ¿Qué es un RDD en Spark? Describe una de sus principales características. ¿Qué tienen que ver con los dataframes?.\n",
    "3. Diferencia entre transformaciones y acciones en Spark. Proporciona ejemplos de cada una. ¿Qué ocurre internamente cuando se ejecuta una acción?\n",
    "4. Explica la importancia del particionamiento en Spark y cómo afecta el rendimiento del procesamiento de datos.\n",
    "5. ¿Cuáles son las funciones de Spark Driver y Spark Executor?\n",
    "6. ¿Qué es el Catalyst Optimizer en Apache Spark y cuál es su función principal en la optimización de consultas SQL?\n"
   ]
  },
  {
   "cell_type": "markdown",
   "metadata": {
    "id": "1elJgE8JRn2O"
   },
   "source": [
    "**Respuestas**\n",
    "\n",
    "> 1. Apache Spark es un motor unificado para el procesamiento de datos a gran escala, ofreciendo almacenamiento en memoria para cálculos intermedios y una variedad de bibliotecas integradas. Sus principales ventajas sobre Pandas son su escalabilidad para conjuntos de datos grandes, procesamiento en paralelo en clústeres de máquinas, compatibilidad con diversas fuentes de datos y capacidades de procesamiento en tiempo real.\n",
    "\n",
    "> 2. Un RDD en Spark es una colección distribuida e inmutable de elementos, esencial para operaciones eficientes en paralelo. Una de sus características principales son las dependencias, que rastrean la relación entre RDDs para optimizar la tolerancia a fallos y el rendimiento. Los DataFrames y DataSets son abstracciones más avanzadas que se construyen sobre los RDDs, ofreciendo interfaces con optimizaciones automáticas.\n",
    "\n",
    "> 3. Las transformaciones en Spark generan un nuevo DataFrame sin modificar el original, como filtrar datos o realizar un mapeo, por ejemplo: filter(), map(). Las acciones desencadenan la ejecución de todas las transformaciones acumuladas, como show(), collect(). Internamente, cuando se ejecuta una acción, Spark optimiza el plan de ejecución, ejecutando las transformaciones en el orden más eficiente y manteniendo un linaje de los datos para proporcionar tolerancia a fallos.\n",
    "\n",
    "> 4. El particionamiento en Spark es importante para el paralelismo, ya que determina cómo se dividen los datos a través del cluster, un buen particionamiento asegura que las operaciones se realicen localmente en cada nodo, reduciendo el tráfico de red y los cuellos de botella durante el shuffle. Lo cual sirve para ejecuciones más rápidas y uso eficiente de los recursos.\n",
    "\n",
    "> 5. La función del Spark Driver es coordinar y gestionar las operaciones de una aplicación de Spark. Esto implica solicitar recursos al gestor del clúster, transformar operaciones en gráficos acíclicos dirigidos (DAGs) y distribuir tareas a los Spark Executors, este último es responsable de ejecutar las tareas asignadas por el Spark Driver en los nodos de trabajo del clúster, procesando los datos, devolviendo los resultados al conductor y gestionando los recursos asignados en su nodo específico.\n",
    "\n",
    "> 6. El Catalyst Optimizer es un motor de optimización de consultas, que construye y optimiza un plan de ejecución para consultas SQL. Utiliza reglas de optimización y técnicas de planificación de costos para transformar una consulta abstracta en un plan eficiente, mejorando así la ejecución al reducir la cantidad de datos a procesar y la complejidad de las operaciones, una de sus principales funciones es incrementar la eficiencia de las consultas SQL, asegurando un uso óptimo de los recursos disponibles.\n"
   ]
  },
  {
   "cell_type": "markdown",
   "metadata": {
    "cell_id": "00002-bf13ea5a-d8bf-4cee-879e-ba1c7035e657",
    "deepnote_cell_type": "markdown",
    "id": "b020ce37"
   },
   "source": [
    "## Parte Práctica\n",
    "\n"
   ]
  },
  {
   "cell_type": "markdown",
   "metadata": {
    "id": "k0DaDvtgEYTV"
   },
   "source": [
    "<center>\n",
    "<img src=\"https://pbs.twimg.com/ad_img/1285681293590749189/kDckYy6Z?format=png&name=900x900\" width=350 />"
   ]
  },
  {
   "cell_type": "markdown",
   "metadata": {
    "id": "uW1dg_5_WR8S"
   },
   "source": [
    "Juan Carlos Bodoque, el famoso periodista y empresario, decidió diversificar su portafolio de negocios y crear su propia plataforma de e-commerce. Después de varios años de investigar y analizar el mercado financiero, finalmente logró fundar Bodoque E-Shop con el objetivo de ofrecer a sus clientes una experiencia personalizada y confiable en sus transacciones.\n",
    "\n",
    "Sin embargo, con la llegada de los aliens al planeta Tierra, aparecen nuevos desafíos para el negocio. Por ello, Bodoque decide invertir en un equipo de expertos en tecnología y comercio interplanetario, para que Bodoque Shop implemente las últimas innovaciones en servicio al cliente para garantizar la satisfacción y fidelización de sus nuevos clientes.\n",
    "\n",
    "El primer objetivo de Bodoque E-Shop será la hacer un análisis exploratorio para entender mejor el comportamiento de los usuarios en la plataforma. Para ello Bodoque les hace entrega de un extenso dataset en el que se registran las actividades que han realizado sus clientes durante los últimos meses. A continuación se presenta un diccionario de variables que levanto el equipo de consultores interplanetarios de Bodoque:\n",
    "\n",
    "1. `Transaction ID`: A unique identifier for each transaction.\n",
    "2. `Customer ID`: A unique identifier for each customer.\n",
    "3. `Transaction Amount`: The total amount of money exchanged in the transaction in USD.\n",
    "4. `Transaction Date`: The date and time when the transaction took place.\n",
    "5. `Payment Method`: The method used to complete the transaction (e.g., credit card, PayPal, etc.).\n",
    "6. `Product Category`: The category of the product involved in the transaction.\n",
    "7. `Quantity`: The number of products involved in the transaction.\n",
    "8. `Customer Age`: The age of the customer making the transaction.\n",
    "9. `Customer Location`: The geographical location of the customer.\n",
    "10. `Device Used`: The type of device used to make the transaction (e.g., mobile, desktop).\n",
    "11. `IP Address`: The IP address of the device used for the transaction.\n",
    "Shipping Address: The address where the product was shipped.\n",
    "12. `Billing Address`: The address associated with the payment method.\n",
    "13. `Is An Alien`: A binary indicator of whether customer is an alien.\n",
    "14. `Account Age Days`: The age of the customer's account in days at the time of the transaction.\n",
    "15. `Transaction Hour`: The hour of the day when the transaction occurred.\n"
   ]
  },
  {
   "cell_type": "markdown",
   "metadata": {
    "cell_id": "1769820f70244385ab5ac51f7509b6de",
    "deepnote_cell_height": 61.133331298828125,
    "deepnote_cell_type": "markdown",
    "id": "MhISwri4zAHy"
   },
   "source": [
    "### Importamos librerias utiles y cargamos los datos😸"
   ]
  },
  {
   "cell_type": "code",
   "execution_count": 1,
   "metadata": {
    "colab": {
     "base_uri": "https://localhost:8080/"
    },
    "id": "xHoq7VBlJoS3",
    "outputId": "337b9f47-8ea2-4c16-8896-0125537ef340"
   },
   "outputs": [
    {
     "name": "stdout",
     "output_type": "stream",
     "text": [
      "Collecting pyspark\n",
      "  Downloading pyspark-3.5.1.tar.gz (317.0 MB)\n",
      "\u001b[2K     \u001b[90m━━━━━━━━━━━━━━━━━━━━━━━━━━━━━━━━━━━━━━━━\u001b[0m \u001b[32m317.0/317.0 MB\u001b[0m \u001b[31m2.0 MB/s\u001b[0m eta \u001b[36m0:00:00\u001b[0m\n",
      "\u001b[?25h  Preparing metadata (setup.py) ... \u001b[?25l\u001b[?25hdone\n",
      "Requirement already satisfied: py4j==0.10.9.7 in /usr/local/lib/python3.10/dist-packages (from pyspark) (0.10.9.7)\n",
      "Building wheels for collected packages: pyspark\n",
      "  Building wheel for pyspark (setup.py) ... \u001b[?25l\u001b[?25hdone\n",
      "  Created wheel for pyspark: filename=pyspark-3.5.1-py2.py3-none-any.whl size=317488491 sha256=57c76b5dd21e7f4b2660da0d3953dbf2d67a66174f6a623fd36730bbac87a259\n",
      "  Stored in directory: /root/.cache/pip/wheels/80/1d/60/2c256ed38dddce2fdd93be545214a63e02fbd8d74fb0b7f3a6\n",
      "Successfully built pyspark\n",
      "Installing collected packages: pyspark\n",
      "Successfully installed pyspark-3.5.1\n"
     ]
    }
   ],
   "source": [
    "!pip install pyspark\n",
    "!apt-get install openjdk-8-jdk-headless -qq > /dev/null\n",
    "\n",
    "import os\n",
    "os.environ[\"JAVA_HOME\"] = \"/usr/lib/jvm/java-8-openjdk-amd64\""
   ]
  },
  {
   "cell_type": "code",
   "execution_count": 2,
   "metadata": {
    "id": "M6MKzLmPSHzY"
   },
   "outputs": [],
   "source": [
    "\n",
    "import pyspark\n",
    "from pyspark import SparkConf, SparkContext\n",
    "from pyspark.sql import SparkSession\n",
    "import pandas as pd\n",
    "from pyspark.sql.types import StringType, IntegerType, FloatType\n",
    "\n",
    "\n",
    "\n",
    "import matplotlib.pyplot as plt\n",
    "import plotly.express as px\n",
    "\n"
   ]
  },
  {
   "cell_type": "markdown",
   "metadata": {
    "id": "9vJWSlEXYBqq"
   },
   "source": [
    "Cargue los datos usando **pyspark**"
   ]
  },
  {
   "cell_type": "code",
   "execution_count": 3,
   "metadata": {
    "colab": {
     "base_uri": "https://localhost:8080/",
     "height": 196
    },
    "id": "i9Uf-BTZXqXe",
    "outputId": "4cc12976-2128-4d5c-fbcb-69bcec6ffaee"
   },
   "outputs": [
    {
     "data": {
      "text/html": [
       "\n",
       "        <div>\n",
       "            <p><b>SparkContext</b></p>\n",
       "\n",
       "            <p><a href=\"http://376cc57d653f:4040\">Spark UI</a></p>\n",
       "\n",
       "            <dl>\n",
       "              <dt>Version</dt>\n",
       "                <dd><code>v3.5.1</code></dd>\n",
       "              <dt>Master</dt>\n",
       "                <dd><code>local</code></dd>\n",
       "              <dt>AppName</dt>\n",
       "                <dd><code>datos_lab</code></dd>\n",
       "            </dl>\n",
       "        </div>\n",
       "        "
      ],
      "text/plain": [
       "<SparkContext master=local appName=datos_lab>"
      ]
     },
     "execution_count": 3,
     "metadata": {},
     "output_type": "execute_result"
    }
   ],
   "source": [
    "from pyspark import SparkConf, SparkContext\n",
    "\n",
    "conf = SparkConf().setMaster(\"local\").setAppName(\"datos_lab\")\n",
    "\n",
    "sc = SparkContext(conf = conf)\n",
    "\n",
    "sc"
   ]
  },
  {
   "cell_type": "code",
   "execution_count": 5,
   "metadata": {
    "id": "v79hYGFx1hxk"
   },
   "outputs": [],
   "source": [
    "# Inicializar SparkSession\n",
    "spark = SparkSession.builder \\\n",
    "    .appName(\"datos_lab\") \\\n",
    "    .getOrCreate()\n",
    "\n",
    "df = spark.read.parquet('/content/datos_lab.parquet', header=True, inferSchema=True)"
   ]
  },
  {
   "cell_type": "code",
   "execution_count": 6,
   "metadata": {
    "colab": {
     "base_uri": "https://localhost:8080/"
    },
    "id": "tvG6f5nH1hxl",
    "outputId": "606f149b-83d7-4d82-80a1-d493082970a7"
   },
   "outputs": [
    {
     "name": "stdout",
     "output_type": "stream",
     "text": [
      "Filas:  600000\n",
      "Columnas:  16\n"
     ]
    }
   ],
   "source": [
    "num_rows = df.count()\n",
    "num_columns = len(df.columns)\n",
    "\n",
    "\n",
    "print(\"Filas: \",num_rows)\n",
    "print(\"Columnas: \", num_columns)"
   ]
  },
  {
   "cell_type": "markdown",
   "metadata": {
    "id": "z6l6GNynYnh4"
   },
   "source": [
    "### 2. Limpieza con pyspark [8 puntos]\n",
    "(1 punto por pregunta)"
   ]
  },
  {
   "cell_type": "markdown",
   "metadata": {
    "id": "8DVdjYyOGRom"
   },
   "source": [
    "<center>\n",
    "<img src=\"https://miro.medium.com/v2/resize:fit:600/1*A6PpTrehGLxCJWNcUsDTNg.jpeg\" width=350 />\n",
    "\n"
   ]
  },
  {
   "cell_type": "markdown",
   "metadata": {
    "id": "sPGV40BjZekP"
   },
   "source": [
    "Para comenzar con el análisis exploratorio usted decide empezar limpiando la base de datos con **pyspark** dado el alto volumen de datos que genera diariamente Bodoque E-Shop.\n",
    "\n",
    "**Nota: NO SE PERMITE EL USO DE PANDAS EN ESTA SECCIÓN**\n",
    "\n",
    "\n",
    "\n",
    "1.   Utilice `.printSchema()` para revisar la estructura de los datos\n",
    "2.   Muestre las primeras 10 filas del dataset. Hint: utilice `.show()`\n",
    "3.   Imprima un muestreo aleatorio con el 5% de los datos diponibles. . Hint: utilice `.sample()`\n",
    "4. Revise los tipos de datos de cada columna con `.dtypes()` y responda la siguiente pregunta: ¿Cuál/es columna/s tiene/n un tipo de dato que no es el adecuado y por qué?\n",
    "> Porque...\n",
    "5. Complete el código entregado para cambiar el tipo de datos para la/s columna/s problemáticas.\n",
    "6. Cuente la cantidad de datos nulos por variable. Recuerde que Spark no posee un método que le permita calcular directamente los nulos.\n",
    "7. Elimine datos nulos.\n",
    "8. Elimine datos duplicados.\n"
   ]
  },
  {
   "cell_type": "code",
   "execution_count": 7,
   "metadata": {
    "colab": {
     "base_uri": "https://localhost:8080/"
    },
    "id": "nw95Jvr-DtwS",
    "outputId": "afb057aa-34e6-4024-f44b-e3df5859286b"
   },
   "outputs": [
    {
     "name": "stdout",
     "output_type": "stream",
     "text": [
      "root\n",
      " |-- Transaction ID: string (nullable = true)\n",
      " |-- Customer ID: string (nullable = true)\n",
      " |-- Transaction Amount: double (nullable = true)\n",
      " |-- Transaction Date: timestamp_ntz (nullable = true)\n",
      " |-- Payment Method: string (nullable = true)\n",
      " |-- Product Category: string (nullable = true)\n",
      " |-- Quantity: double (nullable = true)\n",
      " |-- Customer Age: double (nullable = true)\n",
      " |-- Customer Location: string (nullable = true)\n",
      " |-- Device Used: string (nullable = true)\n",
      " |-- IP Address: string (nullable = true)\n",
      " |-- Shipping Address: string (nullable = true)\n",
      " |-- Billing Address: string (nullable = true)\n",
      " |-- Is An Alien: double (nullable = true)\n",
      " |-- Account Age Days: double (nullable = true)\n",
      " |-- Transaction Hour: double (nullable = true)\n",
      "\n"
     ]
    }
   ],
   "source": [
    "## 1.-\n",
    "df.printSchema()"
   ]
  },
  {
   "cell_type": "code",
   "execution_count": 9,
   "metadata": {
    "colab": {
     "base_uri": "https://localhost:8080/"
    },
    "id": "Pvhp86A41hxl",
    "outputId": "a9e15afb-aa72-4ab9-94df-c4456cde694c"
   },
   "outputs": [
    {
     "name": "stdout",
     "output_type": "stream",
     "text": [
      "+--------------------+--------------------+------------------+-------------------+--------------+----------------+--------+------------+-----------------+-----------+---------------+--------------------+--------------------+-----------+----------------+----------------+\n",
      "|      Transaction ID|         Customer ID|Transaction Amount|   Transaction Date|Payment Method|Product Category|Quantity|Customer Age|Customer Location|Device Used|     IP Address|    Shipping Address|     Billing Address|Is An Alien|Account Age Days|Transaction Hour|\n",
      "+--------------------+--------------------+------------------+-------------------+--------------+----------------+--------+------------+-----------------+-----------+---------------+--------------------+--------------------+-----------+----------------+----------------+\n",
      "|4b4a5fe1-ec4d-4f9...|d1b87f62-51b2-493...|             58.09|2022-03-24 00:00:00| bank transfer|     electronics|     1.0|        17.0|    Amandaborough|       NULL| 212.195.49.198|Unit 8934 Box 005...|Unit 8934 Box 005...|        0.0|            NULL|             5.0|\n",
      "|bacd9392-73ce-481...|37de64d5-e901-4a5...|            389.96|2023-01-17 00:00:00|    debit card|     electronics|     2.0|        40.0|     East Timothy|    desktop|208.106.249.121|634 May Keys\\nPor...|634 May Keys\\nPor...|        0.0|            72.0|             8.0|\n",
      "|d936a024-3a1d-40d...|1bac88d6-4b22-409...|            134.19|2023-06-01 00:00:00|        PayPal|   home & garden|     2.0|        22.0|       Davismouth|     tablet|   76.63.88.212|                NULL|16282 Dana Falls ...|        0.0|            63.0|            NULL|\n",
      "|a30aaab5-4042-4b8...|2357c76e-9253-4ce...|            226.17|2019-07-02 00:00:00| bank transfer|        clothing|     5.0|        31.0|         Lynnberg|    desktop| 207.208.171.73|828 Strong Loaf A...|828 Strong Loaf A...|        0.0|           124.0|            20.0|\n",
      "|b0634f43-d07d-4ca...|45071bc5-9588-43e...|            121.53|2020-10-26 00:00:00| bank transfer|        clothing|     2.0|        51.0|             NULL|       NULL| 190.172.14.169|29799 Jason Hills...|29799 Jason Hills...|        0.0|           158.0|            NULL|\n",
      "|8c4711b8-7477-421...|29616b04-2d5c-472...|            166.41|2019-06-10 00:00:00| bank transfer|    toys & games|    NULL|        34.0|     Herreramouth|     tablet|           NULL|5699 Brittany Vil...|120 Kristi Dale\\n...|       NULL|            38.0|            10.0|\n",
      "|fd0342fe-6b16-4a3...|fe21ae29-ba4c-424...|             92.88|2020-10-09 00:00:00|        PayPal|    toys & games|     2.0|        14.0|        Ramosfort|     tablet|   13.45.27.192|                NULL|727 Gibson Island...|        0.0|           119.0|            19.0|\n",
      "|2d7299de-355b-479...|024257c3-5671-4de...|            318.14|2021-10-09 00:00:00|   credit card| health & beauty|     4.0|        42.0|             NULL|    desktop|131.141.230.185|3914 Davis Union\\...|                NULL|        0.0|           251.0|            NULL|\n",
      "|de51c9df-ab52-43a...|                NULL|              NULL|2019-03-22 00:00:00| bank transfer|   home & garden|    NULL|        38.0|       Carneyfurt|       NULL|           NULL|47893 Maldonado S...|                NULL|        0.0|           190.0|            19.0|\n",
      "|                NULL|aab93e75-582f-445...|            121.78|2022-02-28 00:00:00| bank transfer| health & beauty|     4.0|        39.0|       Brockburgh|     mobile| 174.32.252.238|2334 Briana Cente...|2334 Briana Cente...|        0.0|           343.0|            NULL|\n",
      "+--------------------+--------------------+------------------+-------------------+--------------+----------------+--------+------------+-----------------+-----------+---------------+--------------------+--------------------+-----------+----------------+----------------+\n",
      "only showing top 10 rows\n",
      "\n"
     ]
    }
   ],
   "source": [
    "## 2.-\n",
    "df.show(10)"
   ]
  },
  {
   "cell_type": "code",
   "execution_count": 11,
   "metadata": {
    "colab": {
     "base_uri": "https://localhost:8080/"
    },
    "id": "4gkHmdg41hxl",
    "outputId": "02c9f801-7f1c-44f3-a590-8aaee8929f91"
   },
   "outputs": [
    {
     "name": "stdout",
     "output_type": "stream",
     "text": [
      "+--------------------+--------------------+------------------+-------------------+--------------+----------------+--------+------------+------------------+-----------+---------------+--------------------+--------------------+-----------+----------------+----------------+\n",
      "|      Transaction ID|         Customer ID|Transaction Amount|   Transaction Date|Payment Method|Product Category|Quantity|Customer Age| Customer Location|Device Used|     IP Address|    Shipping Address|     Billing Address|Is An Alien|Account Age Days|Transaction Hour|\n",
      "+--------------------+--------------------+------------------+-------------------+--------------+----------------+--------+------------+------------------+-----------+---------------+--------------------+--------------------+-----------+----------------+----------------+\n",
      "|2c12641c-9347-4ec...|1ac0b1a9-e8ee-430...|            112.27|2024-08-01 00:00:00|          NULL|            NULL|     1.0|        33.0|Lake Robertchester|       NULL|           NULL|                NULL|213 Rivera Strave...|       NULL|           139.0|             0.0|\n",
      "|                NULL|2c644e55-dcb1-457...|             56.33|2024-08-18 00:00:00|          NULL|        clothing|     4.0|        38.0|     Howardborough|    desktop|118.118.247.178|                NULL|78577 Dylan Throu...|       NULL|           198.0|             7.0|\n",
      "|c289aff5-e5e1-49e...|                NULL|             56.83|2023-05-05 00:00:00|    debit card|    toys & games|     3.0|        21.0|    Port Adamhaven|     tablet|134.165.126.136|571 Michael Knoll...|                NULL|        0.0|           321.0|            15.0|\n",
      "|8e6a140f-f125-488...|                NULL|              NULL|2022-10-09 00:00:00|          NULL|    toys & games|     5.0|        23.0|         New Jacob|    desktop|  117.189.96.77|4884 Regina Summi...|4884 Regina Summi...|       NULL|           260.0|            NULL|\n",
      "|                NULL|a406e6a6-4a44-4e9...|              NULL|2022-12-04 00:00:00|   credit card|     electronics|     5.0|        35.0|       Port Adrian|     mobile| 131.71.249.102|56004 Jennifer Vi...|56004 Jennifer Vi...|        0.0|            59.0|             3.0|\n",
      "|22604462-c2b0-49e...|e61351cb-de8b-4a4...|             40.42|2024-08-25 00:00:00|          NULL|    toys & games|     5.0|        NULL|           Amybury|     mobile|  179.46.122.98|699 Barbara Estat...|699 Barbara Estat...|        0.0|            NULL|            14.0|\n",
      "|53de16d4-d9a6-47a...|b33e9f30-8d0c-43b...|            158.77|2024-07-20 00:00:00| bank transfer|            NULL|     1.0|        30.0|       Melindaview|       NULL|           NULL|                NULL|85714 Stephen Dal...|       NULL|            NULL|             2.0|\n",
      "|c93314fd-0fba-4b3...|416cb4a5-1cff-436...|            196.72|2022-12-27 00:00:00| bank transfer|        clothing|     1.0|        34.0|         Pateltown|    desktop|  169.125.85.91|44130 Paul Unions...|                NULL|       NULL|           286.0|             3.0|\n",
      "|                NULL|                NULL|            352.26|2018-07-13 00:00:00|    debit card|        clothing|     4.0|        35.0|        Dixonshire|       NULL|   18.60.92.198|41858 Solomon Rap...|41858 Solomon Rap...|        0.0|           323.0|            19.0|\n",
      "|a89670dc-5c09-40a...|be23a1e5-65d9-4b2...|             90.83|               NULL|    debit card|   home & garden|    NULL|        NULL|              NULL|    desktop|  12.254.165.37|PSC 4654, Box 592...|PSC 4654, Box 592...|        0.0|           123.0|             5.0|\n",
      "+--------------------+--------------------+------------------+-------------------+--------------+----------------+--------+------------+------------------+-----------+---------------+--------------------+--------------------+-----------+----------------+----------------+\n",
      "only showing top 10 rows\n",
      "\n"
     ]
    }
   ],
   "source": [
    "## 3.-\n",
    "sample = df.sample(fraction = 0.05, seed = 19,withReplacement=False)\n",
    "sample.show(10)"
   ]
  },
  {
   "cell_type": "code",
   "execution_count": 14,
   "metadata": {
    "colab": {
     "base_uri": "https://localhost:8080/"
    },
    "id": "vTxldcc21hxl",
    "outputId": "43e554a4-7efe-4b96-bcf6-0567dade2364"
   },
   "outputs": [
    {
     "data": {
      "text/plain": [
       "[('Transaction ID', 'string'),\n",
       " ('Customer ID', 'string'),\n",
       " ('Transaction Amount', 'double'),\n",
       " ('Transaction Date', 'timestamp_ntz'),\n",
       " ('Payment Method', 'string'),\n",
       " ('Product Category', 'string'),\n",
       " ('Quantity', 'double'),\n",
       " ('Customer Age', 'double'),\n",
       " ('Customer Location', 'string'),\n",
       " ('Device Used', 'string'),\n",
       " ('IP Address', 'string'),\n",
       " ('Shipping Address', 'string'),\n",
       " ('Billing Address', 'string'),\n",
       " ('Is An Alien', 'double'),\n",
       " ('Account Age Days', 'double'),\n",
       " ('Transaction Hour', 'double')]"
      ]
     },
     "execution_count": 14,
     "metadata": {},
     "output_type": "execute_result"
    }
   ],
   "source": [
    "df.dtypes"
   ]
  },
  {
   "cell_type": "code",
   "execution_count": 15,
   "metadata": {
    "colab": {
     "base_uri": "https://localhost:8080/"
    },
    "id": "Pnz_o8uK1hxl",
    "outputId": "f847e39d-4fc7-4d8e-d942-aad71a0fdfc2"
   },
   "outputs": [
    {
     "name": "stdout",
     "output_type": "stream",
     "text": [
      "+--------------+-----------+------------------+----------------+--------------+----------------+--------+------------+-----------------+-----------+----------+----------------+---------------+-----------+----------------+----------------+\n",
      "|Transaction ID|Customer ID|Transaction Amount|Transaction Date|Payment Method|Product Category|Quantity|Customer Age|Customer Location|Device Used|IP Address|Shipping Address|Billing Address|Is An Alien|Account Age Days|Transaction Hour|\n",
      "+--------------+-----------+------------------+----------------+--------------+----------------+--------+------------+-----------------+-----------+----------+----------------+---------------+-----------+----------------+----------------+\n",
      "|        126886|     126847|            126840|          126831|        126877|          126814|  126966|      126826|           126781|     126911|    126929|          126734|         126804|     126828|          126886|          126953|\n",
      "+--------------+-----------+------------------+----------------+--------------+----------------+--------+------------+-----------------+-----------+----------+----------------+---------------+-----------+----------------+----------------+\n",
      "\n"
     ]
    }
   ],
   "source": [
    "## 6.-\n",
    "from pyspark.sql.functions import col, when, sum\n",
    "exprs = [sum(when(col(c).isNull(), 1).otherwise(0)).alias(c) for c in df.columns]\n",
    "\n",
    "df.agg(*exprs).show()"
   ]
  },
  {
   "cell_type": "code",
   "execution_count": 16,
   "metadata": {
    "id": "eHOdFQ-v1hxm"
   },
   "outputs": [],
   "source": [
    "## 7.-\n",
    "df = df.na.drop(how=\"any\")"
   ]
  },
  {
   "cell_type": "code",
   "execution_count": 17,
   "metadata": {
    "id": "z_c6oIzv1hxm"
   },
   "outputs": [],
   "source": [
    "## 8.-\n",
    "df = df.dropDuplicates()"
   ]
  },
  {
   "cell_type": "markdown",
   "metadata": {
    "id": "MjxI2Xd6cRu1"
   },
   "source": [
    "### 3. Transformaciones con pyspark [6 puntos]\n",
    "(1 punto por pregunta)"
   ]
  },
  {
   "cell_type": "markdown",
   "metadata": {
    "id": "bPfhWPZeHXUH"
   },
   "source": [
    "<center>\n",
    "<img src=\"https://live.staticflickr.com/13/91801406_0e71d7f019_b.jpg\" width=350 />\n",
    "\n"
   ]
  },
  {
   "cell_type": "markdown",
   "metadata": {
    "id": "lbIDKn44cWhI"
   },
   "source": [
    "**Nota: NO SE PERMITE EL USO DE PANDAS EN ESTA SECCIÓN**\n",
    "\n",
    "Para continuar con el análisis, los especistas de Bodoque les gustaría tener nuevas variables disponibles. Tras las notas de la reunión usted llega a la conclusión de que tiene que realizar las siguientes tareas (con el dataset preprocesado de la seccion anterior):\n",
    "\n",
    "\n",
    "1.   Agregar una columna llamada \"Transaction bp\" con el **monto total** de la transacción en bodoque pesos. Se considera que $x$ dólares equivalen a $log(48+|x^{36}|)$ bodoque pesos.\n",
    "2.   Crear una columna llamada \"Transaction Month\" con el mes en que se realiza una transacción.\n",
    "3.   Crear la variable *Type of purchase* según la catidad de unidades vendidas de acuerdo a las siguientes categorías.\n",
    "  * Compra minorista: 5 productos o menos.\n",
    "  * Compra mayorista: 6 produtos o más.\n",
    "4. Imprima los registros de compras hechas por alienígenas en el comecio mayorista.  Utilice `.filter()`.\n",
    "5. Cuente la cantidad de compras realizadas por humanos y la cantidad de compras realizadas por alienígenas. Utilice `.groupby()`.\n",
    "6. Muestre una tabla con la recaudación promedio por transacción para cada método de pago, tanto para humanos como alienígenas. Utilice `pivot()`."
   ]
  },
  {
   "cell_type": "code",
   "execution_count": 18,
   "metadata": {
    "id": "cbtFJi3mHnkK"
   },
   "outputs": [],
   "source": [
    "## 1.-\n",
    "import numpy as np\n",
    "from pyspark.sql.functions import expr\n",
    "\n",
    "df = df.withColumn(\"Transaction bp\",expr(\"log(48 + pow(`Transaction Amount`,36))\"))"
   ]
  },
  {
   "cell_type": "code",
   "execution_count": 19,
   "metadata": {
    "id": "pDyvZLC61hxm"
   },
   "outputs": [],
   "source": [
    "## 2.-\n",
    "from pyspark.sql.functions import month\n",
    "\n",
    "df = df.withColumn(\"Transaction Month\", month(\"Transaction Date\"))"
   ]
  },
  {
   "cell_type": "code",
   "execution_count": 20,
   "metadata": {
    "id": "VRErcLFf1hxm"
   },
   "outputs": [],
   "source": [
    "## 3.-\n",
    "\n",
    "df = df.withColumn(\"Type of purchase\", when(df[\"Quantity\"] >= 6, \"Mayorista\").otherwise(\"Minorista\"))"
   ]
  },
  {
   "cell_type": "code",
   "execution_count": 21,
   "metadata": {
    "colab": {
     "base_uri": "https://localhost:8080/"
    },
    "id": "QJdQqbx21hxm",
    "outputId": "71e4fdf7-d5af-4a58-ac6d-5e734a06e6ea"
   },
   "outputs": [
    {
     "name": "stdout",
     "output_type": "stream",
     "text": [
      "+--------------------+--------------------+------------------+-------------------+--------------+----------------+--------+------------+-----------------+-----------+---------------+--------------------+--------------------+-----------+----------------+----------------+------------------+-----------------+----------------+\n",
      "|      Transaction ID|         Customer ID|Transaction Amount|   Transaction Date|Payment Method|Product Category|Quantity|Customer Age|Customer Location|Device Used|     IP Address|    Shipping Address|     Billing Address|Is An Alien|Account Age Days|Transaction Hour|    Transaction bp|Transaction Month|Type of purchase|\n",
      "+--------------------+--------------------+------------------+-------------------+--------------+----------------+--------+------------+-----------------+-----------+---------------+--------------------+--------------------+-----------+----------------+----------------+------------------+-----------------+----------------+\n",
      "|48738ee5-2a9f-41a...|35940e8d-0d3a-49b...|            312.37|2021-03-17 00:00:00|    debit card|   home & garden|     2.0|        45.0|  Port Karenburgh|     tablet|  52.108.253.19|23601 Melissa Can...|23601 Melissa Can...|        0.0|            44.0|             4.0|206.79078177448025|                3|       Minorista|\n",
      "|b8139ed1-4849-453...|f50c91d9-a44d-48a...|             15.32|2020-10-22 00:00:00| bank transfer|   home & garden|     1.0|        46.0|     Rebeccaville|     tablet|   99.70.136.94|887 George Statio...|887 George Statio...|        0.0|            75.0|             7.0| 98.24972991524803|               10|       Minorista|\n",
      "|03fa7e0e-f007-404...|053682d9-9cf2-4be...|             30.87|2019-07-16 00:00:00|        PayPal|        clothing|     2.0|        43.0|      North Jenny|     mobile|   49.99.10.115|85027 Michelle Fo...|85027 Michelle Fo...|        0.0|           298.0|             9.0|123.47225418650645|                7|       Minorista|\n",
      "|09608426-5628-44c...|93923722-7547-4b9...|            221.47|2021-11-25 00:00:00|    debit card|   home & garden|     3.0|        29.0|    South Johnton|     mobile|  4.165.118.181|2620 Katrina Tunn...|2620 Katrina Tunn...|        1.0|           268.0|            22.0|194.41033704474313|               11|       Minorista|\n",
      "|d2698270-4e6e-440...|e62c7d89-b1d5-45f...|             21.92|2019-09-06 00:00:00|    debit card|   home & garden|     1.0|        38.0|        Jamesview|     mobile|  207.63.48.149|2994 Patricia Loc...|2994 Patricia Loc...|        0.0|           244.0|             2.0|111.14638063487334|                9|       Minorista|\n",
      "|e939b0df-b403-49e...|f9a48260-abfc-45c...|            217.25|2022-05-05 00:00:00|   credit card|     electronics|     1.0|        54.0|     Jacobchester|     mobile|  55.234.141.38|714 King Drives S...|714 King Drives S...|        0.0|           133.0|            22.0|193.71775550923806|                5|       Minorista|\n",
      "|25aaaf63-f8c4-45d...|faec099b-02ac-44c...|            327.76|2024-07-30 00:00:00|        PayPal| health & beauty|     2.0|        26.0|    Williamshaven|     mobile| 116.130.75.103|5096 Howard Ridge...|5096 Howard Ridge...|        0.0|           363.0|             6.0|208.52213879659016|                7|       Minorista|\n",
      "|609e2fcf-6256-4d1...|2e747b1e-5bba-47d...|            346.35|2021-03-22 00:00:00|   credit card|    toys & games|     4.0|        31.0|Port Williamville|     tablet|139.222.116.135|6392 Elizabeth Ho...|01229 Misty Fort ...|        0.0|             4.0|             0.0| 210.5081936808701|                3|       Minorista|\n",
      "|f657d55c-b40f-4dc...|10c7d4c7-49a3-487...|             17.18|2022-12-29 00:00:00| bank transfer| health & beauty|     5.0|        55.0|     Samanthaside|     mobile|   50.225.174.3|914 Johnston Ligh...|914 Johnston Ligh...|        0.0|            74.0|            16.0|102.37485299601994|               12|       Minorista|\n",
      "|1b2733a5-c6ab-44d...|cea1bb57-2b3d-45e...|             175.0|2022-04-10 00:00:00|        PayPal|    toys & games|     3.0|        28.0|        New Kevin|     mobile|  142.69.105.19|360 Washington Me...|360 Washington Me...|        0.0|            74.0|            17.0| 185.9322950612465|                4|       Minorista|\n",
      "|89b08aa4-525f-487...|c46f2f8b-b496-4c2...|            755.63|2024-08-19 00:00:00|   credit card|   home & garden|     5.0|        48.0|  Kristinaborough|     mobile|165.197.111.176|03411 Kathleen Co...|03411 Kathleen Co...|        0.0|           232.0|             7.0|238.59186618189742|                8|       Minorista|\n",
      "|919e00a4-78a6-496...|d5af5fa2-349f-43c...|             38.65|2019-09-27 00:00:00|        PayPal|    toys & games|     3.0|        30.0|     Charlesshire|    desktop|  81.209.166.19|12947 Goodman Fie...|12947 Goodman Fie...|        0.0|           346.0|            13.0|131.56368390120352|                9|       Minorista|\n",
      "|20cf5056-57e1-49d...|dabe9bcc-48c4-454...|              26.1|2024-03-18 00:00:00|   credit card|        clothing|     1.0|        46.0|         Mezaberg|     tablet|   201.71.88.40|634 Johnson Shore...|634 Johnson Shore...|        0.0|            32.0|             1.0|117.42967131583131|                3|       Minorista|\n",
      "|bf63d7cb-e309-4bf...|a7c00c5a-18b2-4c0...|            193.95|2020-08-22 00:00:00| bank transfer| health & beauty|     5.0|        32.0|      Port Ronald|     tablet|   132.1.222.61|7905 Ashley Harbo...|7905 Ashley Harbo...|        0.0|           278.0|            13.0|189.63361417989515|                8|       Minorista|\n",
      "|ae2e2709-9550-4bd...|b8dd5246-b9d8-484...|             65.78|2023-01-26 00:00:00|    debit card|     electronics|     4.0|        27.0|      Lake Darren|     tablet| 179.100.85.214|5115 Lin Row\\nChr...|5115 Lin Row\\nChr...|        0.0|           135.0|             5.0| 150.7073702673928|                1|       Minorista|\n",
      "|d1f65159-fb7d-498...|2428424f-49cf-43f...|             106.9|2020-11-03 00:00:00| bank transfer|    toys & games|     3.0|        29.0|    Martinezshire|     mobile| 112.52.224.111|USNV Olson\\nFPO A...|USNV Olson\\nFPO A...|        0.0|           311.0|             1.0|168.18817744911598|               11|       Minorista|\n",
      "|069f310a-ed61-42b...|e464fa93-62ca-4f8...|             875.5|2023-06-24 00:00:00|   credit card|    toys & games|     3.0|        44.0|     Michealshire|     mobile|  35.124.95.162|PSC 2231, Box 159...|875 Jacob Walks S...|        1.0|             1.0|             1.0|243.89262546213263|                6|       Minorista|\n",
      "|b1f6643c-0f7c-4ac...|e7779780-94e2-49c...|            380.25|2019-03-08 00:00:00|    debit card|        clothing|     2.0|        39.0|     West Brandon|    desktop|  140.6.232.255|41936 Allison Cur...|41936 Allison Cur...|        0.0|           216.0|             8.0| 213.8698415210185|                3|       Minorista|\n",
      "|4e2ec27b-36e5-4d9...|22601ed4-c7f0-4d3...|            217.21|2019-03-12 00:00:00| bank transfer| health & beauty|     5.0|        40.0|    East Jennifer|     mobile|   79.114.22.83|7781 Philip Trace...|7781 Philip Trace...|        1.0|            10.0|            15.0| 193.7111265905617|                3|       Minorista|\n",
      "|7f0985bc-08d8-496...|a3c070a2-42a7-4e6...|             43.72|2022-02-27 00:00:00|    debit card| health & beauty|     3.0|        49.0|East Heatherville|     tablet|  111.230.46.86|982 Anna Expressw...|982 Anna Expressw...|        0.0|           153.0|            11.0|136.00100387910015|                2|       Minorista|\n",
      "+--------------------+--------------------+------------------+-------------------+--------------+----------------+--------+------------+-----------------+-----------+---------------+--------------------+--------------------+-----------+----------------+----------------+------------------+-----------------+----------------+\n",
      "only showing top 20 rows\n",
      "\n"
     ]
    }
   ],
   "source": [
    "df.show()"
   ]
  },
  {
   "cell_type": "code",
   "execution_count": 27,
   "metadata": {
    "colab": {
     "base_uri": "https://localhost:8080/"
    },
    "id": "IAMlJtUn1hxn",
    "outputId": "299faf40-f9b6-411b-99c0-659c90e078a8"
   },
   "outputs": [
    {
     "name": "stdout",
     "output_type": "stream",
     "text": [
      "+--------------+-----------+------------------+----------------+--------------+----------------+--------+------------+-----------------+-----------+----------+----------------+---------------+-----------+----------------+----------------+--------------+-----------------+----------------+\n",
      "|Transaction ID|Customer ID|Transaction Amount|Transaction Date|Payment Method|Product Category|Quantity|Customer Age|Customer Location|Device Used|IP Address|Shipping Address|Billing Address|Is An Alien|Account Age Days|Transaction Hour|Transaction bp|Transaction Month|Type of purchase|\n",
      "+--------------+-----------+------------------+----------------+--------------+----------------+--------+------------+-----------------+-----------+----------+----------------+---------------+-----------+----------------+----------------+--------------+-----------------+----------------+\n",
      "+--------------+-----------+------------------+----------------+--------------+----------------+--------+------------+-----------------+-----------+----------+----------------+---------------+-----------+----------------+----------------+--------------+-----------------+----------------+\n",
      "\n"
     ]
    }
   ],
   "source": [
    "## 4.-\n",
    "\n",
    "datos_filtrados = df.filter((df[\"Type of purchase\"] == \"Mayorista\") & (df[\"Is An Alien\"] == 1.0))\n",
    "datos_filtrados.show()"
   ]
  },
  {
   "cell_type": "code",
   "execution_count": 25,
   "metadata": {
    "colab": {
     "base_uri": "https://localhost:8080/"
    },
    "id": "6Y4EkXcV1hxn",
    "outputId": "1a756948-02ed-49b9-a262-0af8366f37af"
   },
   "outputs": [
    {
     "name": "stdout",
     "output_type": "stream",
     "text": [
      "+-----------+-----+\n",
      "|Is An Alien|count|\n",
      "+-----------+-----+\n",
      "|        0.0|12700|\n",
      "|        1.0|  688|\n",
      "+-----------+-----+\n",
      "\n"
     ]
    }
   ],
   "source": [
    "## 5.-\n",
    "\n",
    "conteo = df.groupBy(\"Is An Alien\").count()\n",
    "conteo.show()"
   ]
  },
  {
   "cell_type": "code",
   "execution_count": 26,
   "metadata": {
    "colab": {
     "base_uri": "https://localhost:8080/"
    },
    "id": "0GOiO8Zy1hxn",
    "outputId": "404be655-056a-457e-f502-e5c6e9b773d4"
   },
   "outputs": [
    {
     "name": "stdout",
     "output_type": "stream",
     "text": [
      "+--------------+--------------------+\n",
      "|Payment Method|Recaudacion Promedio|\n",
      "+--------------+--------------------+\n",
      "|    debit card|   232.5659365825011|\n",
      "| bank transfer|  232.28905840286097|\n",
      "|        PayPal|   228.3149466300694|\n",
      "|   credit card|  221.85074693755698|\n",
      "+--------------+--------------------+\n",
      "\n"
     ]
    }
   ],
   "source": [
    "## 6.-\n",
    "from pyspark.sql.functions import avg\n",
    "\n",
    "promedio_compras = df.groupBy(\"Payment Method\").agg(avg(\"Transaction Amount\").alias(\"Recaudacion Promedio\"))\n",
    "promedio_compras.show()"
   ]
  },
  {
   "cell_type": "markdown",
   "metadata": {
    "id": "17Muj6u2jOLq"
   },
   "source": [
    "### 4. EDA [18 puntos]\n",
    "(1 punto por gráfico y 1 punto por su interpretación)"
   ]
  },
  {
   "cell_type": "markdown",
   "metadata": {
    "id": "7F3yo66wFQ0z"
   },
   "source": [
    "<center>\n",
    "<img src=\"https://i.pinimg.com/originals/41/7e/7b/417e7b9089bcc20c4909df8954c6e742.gif\" width=400 />\n",
    "\n"
   ]
  },
  {
   "cell_type": "markdown",
   "metadata": {
    "id": "ayN5LYRamE7-"
   },
   "source": [
    "Esta sección tiene como objetivo evaluar su habilidad para generar reportes y conclusiones a partir de los patrones identificados en los datos proporcionados por Bodoque. Específicamente, se enfoca en **caracterizar las transacciones** y **explorar las diferencias y similitudes en el comportamiento de humanos y aliens**. Utilice el dataset que ya incluye las transformaciones necesarias.\n",
    "\n",
    "Por favor, asegúrese de que **todas** las visualizaciones que realice cumplan con los siguientes criterios:\n",
    "- Deben ser relevantes y fáciles de interpretar.\n",
    "- Cada gráfico debe incluir un título claro, nombres en los ejes y leyendas adecuadas.\n",
    "- Adjunte una breve descripción interpretativa junto a cada gráfico para explicar los resultados visualizados.\n",
    "\n",
    "Para llevar a cabo esta tarea, siga los siguientes pasos utilizando la librería de visualización de su elección (matplotlib, seaborn, plotly, etc):\n",
    "\n",
    "1. **Conversión del DataFrame a formato pandas**: Pase el DataFrame procesado a formato pandas. Evite realizar transformaciones adicionales con pandas.\n",
    "2. **Visualización de Variables Categóricas**:\n",
    "   - Genere **tres gráficos de barras** que diferencien entre humanos y aliens. Analice y comente cualquier diferencia o similitud observada entre estos dos grupos.\n",
    "3. **Visualización de Variables Numéricas**:\n",
    "   - Elabore **tres distplots** para examinar las distribuciones de variables numéricas, diferenciando entre humanos y aliens. Comente las diferencias o similitudes notables.\n",
    "4. **Análisis de Patrones en Transacciones**:\n",
    "   - Cree **tres gráficos avanzados** que ayuden a identificar patrones en las transacciones. Estos gráficos deben incorporar al menos dos dimensiones y diferir de los anteriores. Algunos ejemplos podrían ser un lineplot que muestre la cantidad de transacciones mensuales por canal de venta, o un barplot que exhiba los tres productos más vendidos por canal.\n",
    "\n",
    "Estos pasos le permitirán no solo visualizar datos complejos de manera efectiva, sino también interpretar estos datos para extraer insights valiosos acerca del comportamiento de los consumidores en el contexto de Bodoque."
   ]
  },
  {
   "cell_type": "code",
   "execution_count": 28,
   "metadata": {
    "id": "tGw5y36IxRk3"
   },
   "outputs": [],
   "source": [
    "##1.-\n",
    "\n",
    "df_pd = df.toPandas()"
   ]
  },
  {
   "cell_type": "code",
   "execution_count": 30,
   "metadata": {
    "id": "6ZaY-ShZ1hxn"
   },
   "outputs": [],
   "source": [
    "## 2\n",
    "df_alien = df.filter(df[\"Is An Alien\"] == 1.0)\n",
    "df_humano = df.filter(df[\"Is An Alien\"] == 0.0).sample(fraction = 0.055, seed = 19,withReplacement=False)\n",
    "\n",
    "pd_alien = df_alien.toPandas()\n",
    "pd_humano = df_humano.toPandas()"
   ]
  },
  {
   "cell_type": "code",
   "execution_count": 31,
   "metadata": {
    "colab": {
     "base_uri": "https://localhost:8080/",
     "height": 472
    },
    "id": "aQJ5qL2t1hxo",
    "outputId": "4eb3219d-d66a-444d-d9e7-68a469a76bfb"
   },
   "outputs": [
    {
     "data": {
      "image/png": "[encoded data removed]",
      "text/plain": [
       "<Figure size 640x480 with 1 Axes>"
      ]
     },
     "metadata": {},
     "output_type": "display_data"
    }
   ],
   "source": [
    "## Histograma de transaction amount\n",
    "bin_values = np.histogram(np.hstack([pd_alien[\"Transaction Amount\"], pd_humano[\"Transaction Amount\"]]), bins=30)[1]\n",
    "\n",
    "plt.hist(pd_alien[\"Transaction Amount\"], bins=bin_values,color = 'red')\n",
    "plt.hist(pd_humano[\"Transaction Amount\"], bins=bin_values,color = 'blue',alpha = 0.5)\n",
    "plt.title(\"Histograma de Transaction Amount\")\n",
    "plt.xlabel(\"Tamaño de la transacción\")\n",
    "plt.ylabel(\"Frecuencia\")\n",
    "plt.show()"
   ]
  },
  {
   "cell_type": "code",
   "execution_count": 32,
   "metadata": {
    "colab": {
     "base_uri": "https://localhost:8080/",
     "height": 472
    },
    "id": "VGsY57lJ1hxo",
    "outputId": "40647f1e-81d0-418c-c848-27d5bc4e488e"
   },
   "outputs": [
    {
     "data": {
      "image/png": "[encoded data removed]",
      "text/plain": [
       "<Figure size 640x480 with 1 Axes>"
      ]
     },
     "metadata": {},
     "output_type": "display_data"
    }
   ],
   "source": [
    "## Customer Age\n",
    "bin_values = np.histogram(np.hstack([pd_alien[\"Customer Age\"], pd_humano[\"Customer Age\"]]), bins=10)[1]\n",
    "\n",
    "plt.hist(pd_alien[\"Customer Age\"], bins=bin_values,color = 'red')\n",
    "plt.hist(pd_humano[\"Customer Age\"], bins=bin_values,color = 'blue',alpha = 0.5)\n",
    "plt.title(\"Histograma edad de los consumidores\")\n",
    "plt.xlabel(\"Edad de los consumidores\")\n",
    "plt.ylabel(\"Frecuencia\")\n",
    "plt.show()"
   ]
  },
  {
   "cell_type": "code",
   "execution_count": 33,
   "metadata": {
    "colab": {
     "base_uri": "https://localhost:8080/",
     "height": 472
    },
    "id": "noEpMDXf1hxo",
    "outputId": "b038a5c5-818c-4592-a737-82c06f7b8178"
   },
   "outputs": [
    {
     "data": {
      "image/png": "[encoded data removed]",
      "text/plain": [
       "<Figure size 640x480 with 1 Axes>"
      ]
     },
     "metadata": {},
     "output_type": "display_data"
    }
   ],
   "source": [
    "## Customer Age\n",
    "bin_values = np.histogram(np.hstack([pd_alien[\"Account Age Days\"], pd_humano[\"Account Age Days\"]]), bins=100)[1]\n",
    "\n",
    "plt.hist(pd_alien[\"Account Age Days\"], bins=bin_values,color = 'red')\n",
    "plt.hist(pd_humano[\"Account Age Days\"], bins=bin_values,color = 'blue',alpha = 0.5)\n",
    "plt.title(\"Histograma de Transaction Amount\")\n",
    "plt.xlabel(\"Longevidad de la cuenta [días]\")\n",
    "plt.ylabel(\"Frecuencia\")\n",
    "plt.show()"
   ]
  },
  {
   "cell_type": "code",
   "execution_count": 34,
   "metadata": {
    "colab": {
     "base_uri": "https://localhost:8080/",
     "height": 854
    },
    "id": "k3Lm9MFY1hxo",
    "outputId": "a7f2069c-c48c-468a-c886-d315bbcbc0ef"
   },
   "outputs": [
    {
     "name": "stderr",
     "output_type": "stream",
     "text": [
      "<ipython-input-34-86a0066365dd>:4: UserWarning: \n",
      "\n",
      "`distplot` is a deprecated function and will be removed in seaborn v0.14.0.\n",
      "\n",
      "Please adapt your code to use either `displot` (a figure-level function with\n",
      "similar flexibility) or `histplot` (an axes-level function for histograms).\n",
      "\n",
      "For a guide to updating your code to use the new functions, please see\n",
      "https://gist.github.com/mwaskom/de44147ed2974457ad6372750bbe5751\n",
      "\n",
      "  sns.distplot(pd_alien[\"Account Age Days\"], bins=10, kde=True, rug=True,color=\"red\")\n",
      "<ipython-input-34-86a0066365dd>:5: UserWarning: \n",
      "\n",
      "`distplot` is a deprecated function and will be removed in seaborn v0.14.0.\n",
      "\n",
      "Please adapt your code to use either `displot` (a figure-level function with\n",
      "similar flexibility) or `histplot` (an axes-level function for histograms).\n",
      "\n",
      "For a guide to updating your code to use the new functions, please see\n",
      "https://gist.github.com/mwaskom/de44147ed2974457ad6372750bbe5751\n",
      "\n",
      "  sns.distplot(pd_humano[\"Account Age Days\"], bins=10, kde=True, rug=True,color=\"blue\")\n"
     ]
    },
    {
     "data": {
      "image/png": "[encoded data removed]",
      "text/plain": [
       "<Figure size 640x480 with 1 Axes>"
      ]
     },
     "metadata": {},
     "output_type": "display_data"
    }
   ],
   "source": [
    "### Visualizaciones numércias\n",
    "import seaborn as sns\n",
    "# Crear el distplot\n",
    "sns.distplot(pd_alien[\"Account Age Days\"], bins=10, kde=True, rug=True,color=\"red\")\n",
    "sns.distplot(pd_humano[\"Account Age Days\"], bins=10, kde=True, rug=True,color=\"blue\")\n",
    "plt.title('Distribución de datos')\n",
    "plt.xlabel('Longevidad de la cuenta [días]')\n",
    "plt.ylabel('Densidad')\n",
    "plt.show()"
   ]
  },
  {
   "cell_type": "code",
   "execution_count": 35,
   "metadata": {
    "colab": {
     "base_uri": "https://localhost:8080/",
     "height": 854
    },
    "id": "kyk0iF_11hxo",
    "outputId": "9d0d7dd9-dfb0-4c7d-cf12-2d3a23f9ab8d"
   },
   "outputs": [
    {
     "name": "stderr",
     "output_type": "stream",
     "text": [
      "<ipython-input-35-2ced25affd35>:2: UserWarning: \n",
      "\n",
      "`distplot` is a deprecated function and will be removed in seaborn v0.14.0.\n",
      "\n",
      "Please adapt your code to use either `displot` (a figure-level function with\n",
      "similar flexibility) or `histplot` (an axes-level function for histograms).\n",
      "\n",
      "For a guide to updating your code to use the new functions, please see\n",
      "https://gist.github.com/mwaskom/de44147ed2974457ad6372750bbe5751\n",
      "\n",
      "  sns.distplot(pd_alien[\"Transaction Hour\"], bins=3, kde=True, rug=True,color=\"red\")\n",
      "<ipython-input-35-2ced25affd35>:3: UserWarning: \n",
      "\n",
      "`distplot` is a deprecated function and will be removed in seaborn v0.14.0.\n",
      "\n",
      "Please adapt your code to use either `displot` (a figure-level function with\n",
      "similar flexibility) or `histplot` (an axes-level function for histograms).\n",
      "\n",
      "For a guide to updating your code to use the new functions, please see\n",
      "https://gist.github.com/mwaskom/de44147ed2974457ad6372750bbe5751\n",
      "\n",
      "  sns.distplot(pd_humano[\"Transaction Hour\"], bins=3, kde=True, rug=True,color=\"blue\")\n"
     ]
    },
    {
     "data": {
      "image/png": "[encoded data removed]",
      "text/plain": [
       "<Figure size 640x480 with 1 Axes>"
      ]
     },
     "metadata": {},
     "output_type": "display_data"
    }
   ],
   "source": [
    "# Crear el distplot\n",
    "sns.distplot(pd_alien[\"Transaction Hour\"], bins=3, kde=True, rug=True,color=\"red\")\n",
    "sns.distplot(pd_humano[\"Transaction Hour\"], bins=3, kde=True, rug=True,color=\"blue\")\n",
    "plt.title('Distribución de datos')\n",
    "plt.xlabel('Hora de la compra')\n",
    "plt.ylabel('Densidad')\n",
    "plt.show()"
   ]
  },
  {
   "cell_type": "code",
   "execution_count": 36,
   "metadata": {
    "colab": {
     "base_uri": "https://localhost:8080/",
     "height": 854
    },
    "id": "AOseCZ2Y1hxo",
    "outputId": "ced980d8-5b26-4c5d-9129-fea70a56414d"
   },
   "outputs": [
    {
     "name": "stderr",
     "output_type": "stream",
     "text": [
      "<ipython-input-36-ef2ca0c9c452>:4: UserWarning: \n",
      "\n",
      "`distplot` is a deprecated function and will be removed in seaborn v0.14.0.\n",
      "\n",
      "Please adapt your code to use either `displot` (a figure-level function with\n",
      "similar flexibility) or `histplot` (an axes-level function for histograms).\n",
      "\n",
      "For a guide to updating your code to use the new functions, please see\n",
      "https://gist.github.com/mwaskom/de44147ed2974457ad6372750bbe5751\n",
      "\n",
      "  sns.distplot(pd_alien[\"Quantity\"], bins=5, kde=True, rug=True,color=\"red\")\n",
      "<ipython-input-36-ef2ca0c9c452>:5: UserWarning: \n",
      "\n",
      "`distplot` is a deprecated function and will be removed in seaborn v0.14.0.\n",
      "\n",
      "Please adapt your code to use either `displot` (a figure-level function with\n",
      "similar flexibility) or `histplot` (an axes-level function for histograms).\n",
      "\n",
      "For a guide to updating your code to use the new functions, please see\n",
      "https://gist.github.com/mwaskom/de44147ed2974457ad6372750bbe5751\n",
      "\n",
      "  sns.distplot(pd_humano[\"Quantity\"], bins=5, kde=True, rug=True,color=\"blue\")\n"
     ]
    },
    {
     "data": {
      "image/png": "[encoded data removed]",
      "text/plain": [
       "<Figure size 640x480 with 1 Axes>"
      ]
     },
     "metadata": {},
     "output_type": "display_data"
    }
   ],
   "source": [
    "## Quantity\n",
    "\n",
    "# Crear el distplot\n",
    "sns.distplot(pd_alien[\"Quantity\"], bins=5, kde=True, rug=True,color=\"red\")\n",
    "sns.distplot(pd_humano[\"Quantity\"], bins=5, kde=True, rug=True,color=\"blue\")\n",
    "plt.title('Distribución de datos')\n",
    "plt.xlabel('Hora de la compra')\n",
    "plt.ylabel('Densidad')\n",
    "plt.show()"
   ]
  },
  {
   "cell_type": "markdown",
   "metadata": {
    "id": "97zN2_g4vgY6"
   },
   "source": [
    "### 5. Particiones y consultas en SQL [6 puntos]\n",
    "(2 puntos por pregunta)"
   ]
  },
  {
   "cell_type": "markdown",
   "metadata": {
    "id": "viNvNuE_odgc"
   },
   "source": [
    "<center>\n",
    "<img src=\"https://gitlab.com/imezadelajara/datos_clase_7_mds7202/-/raw/main/misc_images/1696330143457.gif\" width=400 />"
   ]
  },
  {
   "cell_type": "markdown",
   "metadata": {
    "id": "SCdHwyGBwVx8"
   },
   "source": [
    "El equipo de Bodoque e-shop ha solicitado que los datos estén disponibles en una tabla SQL consultable. Además, están interesados en aprovechar las funciones de ventana en SQL para análisis avanzados. Las funciones de ventana permiten realizar cálculos sobre un conjunto de filas que están relacionadas con la fila actual. Por ejemplo, UNBOUNDED PRECEDING se usa para indicar que el rango de la función de ventana comienza desde la primera fila de la partición o del conjunto de resultados, lo cual es útil para calcular sumas acumulativas hasta la fila actual. Las variaciones comunes de este uso incluyen:\n",
    "\n",
    "- `UNBOUNDED PRECEDING` to `CURRENT ROW`: Calcula desde el inicio de la partición hasta la fila actual.\n",
    "- `UNBOUNDED PRECEDING` to `UNBOUNDED FOLLOWING`: Cubre todas las filas dentro de la partición.\n",
    "- `VALUE PRECEDING` to `VALUE FOLLOWING`: Establece un rango específico basado en valores antes y después de la fila actual."
   ]
  },
  {
   "cell_type": "markdown",
   "metadata": {
    "id": "VntjejKLleIa"
   },
   "source": [
    "<center>\n",
    "<img src=\"https://learnsql.com/blog/sql-window-functions-rows-clause/1.png\" width=500 />"
   ]
  },
  {
   "cell_type": "markdown",
   "metadata": {
    "id": "D8XJ7NrPllKG"
   },
   "source": [
    "Ejemplo de uso en SQL:\n",
    "\n",
    "```sql\n",
    "STAT(COL1_NAME) OVER (PARTITION BY COL2_NAME ORDER BY COL3_NAME ROWS BETWEEN X PRECEDING AND CURRENT ROW)\n",
    "```\n",
    "\n",
    "\n",
    "Responda y realice los siguientes puntos:\n",
    "\n",
    "1. **Creación de Tabla con PySpark**:\n",
    "   - Desarrolle un script utilizando PySpark para crear una tabla a partir de un DataFrame previamente transformado. Seleccione y utilice una variable específica para la partición de la tabla. Justifique su elección de esta variable considerando factores como el tamaño del DataFrame, la distribución de los datos y el impacto potencial en el rendimiento de futuras consultas.\n",
    "\n",
    "2. **Consulta SQL para Principales Clientes**:\n",
    "   - Ejecute una consulta SQL para identificar los 10 clientes que más productos han comprado. La consulta debe retornar el ID del cliente junto con el total de productos comprados, ordenados en forma descendente.\n",
    "\n",
    "3. **Implementación de Función de Ventana en SQL y Equivalente en Spark**:\n",
    "   - Implemente una función de ventana en SQL para calcular la compra más alta realizada por cada usuario en los últimos tres meses. Además, describa cómo se podría realizar una función equivalente en Spark, considerando las capacidades específicas de PySpark para manejar este tipo de consultas.\n",
    "\n"
   ]
  },
  {
   "cell_type": "code",
   "execution_count": 37,
   "metadata": {
    "id": "Xe_JQ3npiM6_"
   },
   "outputs": [],
   "source": [
    "## Seleccionemos columnas\n",
    "\n",
    "table_cols = ['Transaction ID',\n",
    " 'Customer ID',\n",
    " 'Transaction Amount',\n",
    " 'Transaction Date',\n",
    " 'Product Category',\n",
    " 'Quantity',\n",
    " 'Customer Location',\n",
    " 'Shipping Address',\n",
    " 'Billing Address',\n",
    " 'Is Fraudulent',\n",
    " 'Account Age Days']"
   ]
  },
  {
   "cell_type": "code",
   "execution_count": 38,
   "metadata": {
    "colab": {
     "base_uri": "https://localhost:8080/"
    },
    "id": "2NjlBp2d1hxp",
    "outputId": "1e2baf7a-de41-4ae7-d88d-c8e8972d6cbc"
   },
   "outputs": [
    {
     "name": "stdout",
     "output_type": "stream",
     "text": [
      "+--------------------+-------------------+\n",
      "|         Customer ID|Cantidad de compras|\n",
      "+--------------------+-------------------+\n",
      "|e91ebafd-1925-400...|                5.0|\n",
      "|6a6e91d8-d630-466...|                5.0|\n",
      "|2f3d5b31-bd85-4d7...|                5.0|\n",
      "|ebf10b43-2999-4fa...|                5.0|\n",
      "|aa8c72f5-fbcc-4bf...|                5.0|\n",
      "|6300f942-b86d-433...|                5.0|\n",
      "|2e835dd8-6c9c-4c8...|                5.0|\n",
      "|ddfbe502-d51c-4ac...|                5.0|\n",
      "|ddb1eedb-78a7-403...|                5.0|\n",
      "|1718476e-0518-41b...|                5.0|\n",
      "+--------------------+-------------------+\n",
      "\n"
     ]
    }
   ],
   "source": [
    "from pyspark.sql.window import Window\n",
    "\n",
    "## 1.- Crear tabla\n",
    "df.createOrReplaceTempView(\"datos\")\n",
    "\n",
    "## 2.- Seleccionar a los diez clientes que más compras han realizado\n",
    "spark.sql(\"SELECT `Customer ID`, SUM(`Quantity`) AS `Cantidad de compras` FROM datos GROUP BY `Customer ID` ORDER BY `Cantidad de compras` DESC LIMIT 10;\").show()\n"
   ]
  },
  {
   "cell_type": "code",
   "execution_count": 39,
   "metadata": {
    "colab": {
     "base_uri": "https://localhost:8080/"
    },
    "id": "NLf0zXMA1hxp",
    "outputId": "a46acd41-361d-4452-ae8d-59fda2916fef"
   },
   "outputs": [
    {
     "name": "stdout",
     "output_type": "stream",
     "text": [
      "+--------------------+---------------+\n",
      "|         Customer ID|compra_mas_alta|\n",
      "+--------------------+---------------+\n",
      "|35940e8d-0d3a-49b...|         312.37|\n",
      "|f50c91d9-a44d-48a...|         312.37|\n",
      "|053682d9-9cf2-4be...|         312.37|\n",
      "|93923722-7547-4b9...|         312.37|\n",
      "|e62c7d89-b1d5-45f...|         312.37|\n",
      "|f9a48260-abfc-45c...|         312.37|\n",
      "|faec099b-02ac-44c...|         327.76|\n",
      "|2e747b1e-5bba-47d...|         346.35|\n",
      "|10c7d4c7-49a3-487...|         346.35|\n",
      "|cea1bb57-2b3d-45e...|         346.35|\n",
      "+--------------------+---------------+\n",
      "\n"
     ]
    }
   ],
   "source": [
    "## 3.- Consulta SQL con ventana\n",
    "spark.sql(\"SELECT `Customer ID`, MAX(`Transaction Amount`) OVER (PARTITION BY 'Customer ID' ORDER BY 'Transaction Date' ROWS BETWEEN 90 PRECEDING AND CURRENT ROW) AS compra_mas_alta FROM datos DESC LIMIT 10;\").show()\n",
    "## Malditas comillas,,,\n",
    "\n",
    "## 3.- Implementar una función de ventana\n",
    "Ventana = Window.partitionBy(\"Customer ID\")"
   ]
  },
  {
   "cell_type": "markdown",
   "metadata": {
    "id": "AKQs-augfZBv"
   },
   "source": [
    "### 6. UDF [10 puntos]\n",
    "(2 por pregunta)"
   ]
  },
  {
   "cell_type": "markdown",
   "metadata": {
    "id": "ovDBGi-uhhdD"
   },
   "source": [
    "<center>\n",
    "<img src=\"https://64.media.tumblr.com/ba8c705edd2bed0a28d9458811155d69/tumblr_pap19zg4ae1w3zg6go1_400.gifv\" width=400 />"
   ]
  },
  {
   "cell_type": "markdown",
   "metadata": {
    "id": "TJUUnpi8qKHD"
   },
   "source": [
    "\n",
    "\n",
    "Un experto en predicciones y programación le ha proporcionado un objeto serializado (`pickle`) diseñado para calcular las probabilidades de que un cliente cometa o no un fraude. Este experto sugiere que, para maximizar las capacidades de procesamiento distribuido de Spark, debería implementar `Scalar User Defined Functions` (udf). Esto le permitirá aplicar el objeto serializado en un entorno distribuido a lo largo de toda la población de datos. Un aspecto clave de la función desarrollada por el experto es que se enfoca exclusivamente en las siguientes columnas para realizar las predicciones: `['Transaction Amount', 'Quantity', 'Customer Age', 'Transaction Hour']`.\n",
    "\n",
    "Aparte, el experto le proporciona las siguientes instrucciones para usar las UDF en Spark:\n",
    "\n",
    "```python\n",
    "from pyspark.sql.functions import udf\n",
    "from pyspark.sql.types import FloatType\n",
    "\n",
    "def custom_function(col):\n",
    "    pass\n",
    "\n",
    "udf_function = udf(custom_function, FloatType())\n",
    "```\n",
    "\n",
    "Basándose en la estructura proporcionada, debe desarrollar una función que ejecute un código específico. Tenga en cuenta que esta función solo puede recibir columnas de Spark y debe retornar el valor deseado. Posteriormente, deberá utilizar esta función UDF indicando la función personalizada y el formato de salida.\n",
    "\n",
    "Siga los siguientes pasos para implementar la solución y responda las preguntas:\n",
    "\n",
    "1. **Cargar el objeto serializado**: Revise el tipo de objeto y deduzca su función.\n",
    "2. **Explorar el objeto**: Utilice las funciones `dir` y `help` para identificar qué método del objeto predice la probabilidad.\n",
    "3. **Crear una función personalizada**: Elabore una función que prediga la probabilidad de fraude utilizando el último valor de la lista generada por el objeto serializado. Puede modificar el nombre de la función para reflejar su propósito.\n",
    "4. **Definir la función UDF**: Establezca la función UDF con la función personalizada que ha creado.\n",
    "5. **Generar una nueva columna**: Añada una nueva columna `prediction` a su DataFrame en Spark utilizando la función UDF y muestre un ejemplo de cómo se aplica. ¿Qué beneficios podría generar utilizar udf?"
   ]
  },
  {
   "cell_type": "code",
   "execution_count": 41,
   "metadata": {
    "id": "bPJVs2OBezN_"
   },
   "outputs": [],
   "source": [
    "import pickle\n",
    "from pyspark.sql.functions import udf\n",
    "from pyspark.sql.types import FloatType\n",
    "\n",
    "## 1.- Abrir objeto serializado\n",
    "with open(\"/content/datos_lab.pkl\", \"rb\") as f:\n",
    "    serialized_object = pickle.load(f)"
   ]
  },
  {
   "cell_type": "code",
   "execution_count": 42,
   "metadata": {
    "colab": {
     "base_uri": "https://localhost:8080/"
    },
    "id": "x4lvauqC1hxq",
    "outputId": "250dd68b-dd8e-44a5-f94d-163fb5417d77"
   },
   "outputs": [
    {
     "name": "stdout",
     "output_type": "stream",
     "text": [
      "['C', '__annotations__', '__class__', '__delattr__', '__dict__', '__dir__', '__doc__', '__eq__', '__format__', '__ge__', '__getattribute__', '__getstate__', '__gt__', '__hash__', '__init__', '__init_subclass__', '__le__', '__lt__', '__module__', '__ne__', '__new__', '__reduce__', '__reduce_ex__', '__repr__', '__setattr__', '__setstate__', '__sizeof__', '__str__', '__subclasshook__', '__weakref__', '_check_feature_names', '_check_n_features', '_estimator_type', '_get_param_names', '_get_tags', '_more_tags', '_parameter_constraints', '_predict_proba_lr', '_repr_html_', '_repr_html_inner', '_repr_mimebundle_', '_validate_data', '_validate_params', 'class_weight', 'classes_', 'coef_', 'decision_function', 'densify', 'dual', 'feature_names_in_', 'fit', 'fit_intercept', 'get_params', 'intercept_', 'intercept_scaling', 'l1_ratio', 'max_iter', 'multi_class', 'n_features_in_', 'n_iter_', 'n_jobs', 'penalty', 'predict', 'predict_log_proba', 'predict_proba', 'random_state', 'score', 'set_params', 'solver', 'sparsify', 'tol', 'verbose', 'warm_start']\n"
     ]
    }
   ],
   "source": [
    "# 2.- Explorar\n",
    "print(dir(serialized_object))"
   ]
  },
  {
   "cell_type": "code",
   "execution_count": 43,
   "metadata": {
    "colab": {
     "base_uri": "https://localhost:8080/"
    },
    "id": "UC778XQB1hxq",
    "outputId": "c765fc6e-db6c-43ca-e7cc-a1fdf079c402"
   },
   "outputs": [
    {
     "name": "stdout",
     "output_type": "stream",
     "text": [
      "Help on LogisticRegression in module sklearn.linear_model._logistic object:\n",
      "\n",
      "class LogisticRegression(sklearn.linear_model._base.LinearClassifierMixin, sklearn.linear_model._base.SparseCoefMixin, sklearn.base.BaseEstimator)\n",
      " |  LogisticRegression(penalty='l2', *, dual=False, tol=0.0001, C=1.0, fit_intercept=True, intercept_scaling=1, class_weight=None, random_state=None, solver='lbfgs', max_iter=100, multi_class='auto', verbose=0, warm_start=False, n_jobs=None, l1_ratio=None)\n",
      " |  \n",
      " |  Logistic Regression (aka logit, MaxEnt) classifier.\n",
      " |  \n",
      " |  In the multiclass case, the training algorithm uses the one-vs-rest (OvR)\n",
      " |  scheme if the 'multi_class' option is set to 'ovr', and uses the\n",
      " |  cross-entropy loss if the 'multi_class' option is set to 'multinomial'.\n",
      " |  (Currently the 'multinomial' option is supported only by the 'lbfgs',\n",
      " |  'sag', 'saga' and 'newton-cg' solvers.)\n",
      " |  \n",
      " |  This class implements regularized logistic regression using the\n",
      " |  'liblinear' library, 'newton-cg', 'sag', 'saga' and 'lbfgs' solvers. **Note\n",
      " |  that regularization is applied by default**. It can handle both dense\n",
      " |  and sparse input. Use C-ordered arrays or CSR matrices containing 64-bit\n",
      " |  floats for optimal performance; any other input format will be converted\n",
      " |  (and copied).\n",
      " |  \n",
      " |  The 'newton-cg', 'sag', and 'lbfgs' solvers support only L2 regularization\n",
      " |  with primal formulation, or no regularization. The 'liblinear' solver\n",
      " |  supports both L1 and L2 regularization, with a dual formulation only for\n",
      " |  the L2 penalty. The Elastic-Net regularization is only supported by the\n",
      " |  'saga' solver.\n",
      " |  \n",
      " |  Read more in the :ref:`User Guide <logistic_regression>`.\n",
      " |  \n",
      " |  Parameters\n",
      " |  ----------\n",
      " |  penalty : {'l1', 'l2', 'elasticnet', None}, default='l2'\n",
      " |      Specify the norm of the penalty:\n",
      " |  \n",
      " |      - `None`: no penalty is added;\n",
      " |      - `'l2'`: add a L2 penalty term and it is the default choice;\n",
      " |      - `'l1'`: add a L1 penalty term;\n",
      " |      - `'elasticnet'`: both L1 and L2 penalty terms are added.\n",
      " |  \n",
      " |      .. warning::\n",
      " |         Some penalties may not work with some solvers. See the parameter\n",
      " |         `solver` below, to know the compatibility between the penalty and\n",
      " |         solver.\n",
      " |  \n",
      " |      .. versionadded:: 0.19\n",
      " |         l1 penalty with SAGA solver (allowing 'multinomial' + L1)\n",
      " |  \n",
      " |      .. deprecated:: 1.2\n",
      " |         The 'none' option was deprecated in version 1.2, and will be removed\n",
      " |         in 1.4. Use `None` instead.\n",
      " |  \n",
      " |  dual : bool, default=False\n",
      " |      Dual or primal formulation. Dual formulation is only implemented for\n",
      " |      l2 penalty with liblinear solver. Prefer dual=False when\n",
      " |      n_samples > n_features.\n",
      " |  \n",
      " |  tol : float, default=1e-4\n",
      " |      Tolerance for stopping criteria.\n",
      " |  \n",
      " |  C : float, default=1.0\n",
      " |      Inverse of regularization strength; must be a positive float.\n",
      " |      Like in support vector machines, smaller values specify stronger\n",
      " |      regularization.\n",
      " |  \n",
      " |  fit_intercept : bool, default=True\n",
      " |      Specifies if a constant (a.k.a. bias or intercept) should be\n",
      " |      added to the decision function.\n",
      " |  \n",
      " |  intercept_scaling : float, default=1\n",
      " |      Useful only when the solver 'liblinear' is used\n",
      " |      and self.fit_intercept is set to True. In this case, x becomes\n",
      " |      [x, self.intercept_scaling],\n",
      " |      i.e. a \"synthetic\" feature with constant value equal to\n",
      " |      intercept_scaling is appended to the instance vector.\n",
      " |      The intercept becomes ``intercept_scaling * synthetic_feature_weight``.\n",
      " |  \n",
      " |      Note! the synthetic feature weight is subject to l1/l2 regularization\n",
      " |      as all other features.\n",
      " |      To lessen the effect of regularization on synthetic feature weight\n",
      " |      (and therefore on the intercept) intercept_scaling has to be increased.\n",
      " |  \n",
      " |  class_weight : dict or 'balanced', default=None\n",
      " |      Weights associated with classes in the form ``{class_label: weight}``.\n",
      " |      If not given, all classes are supposed to have weight one.\n",
      " |  \n",
      " |      The \"balanced\" mode uses the values of y to automatically adjust\n",
      " |      weights inversely proportional to class frequencies in the input data\n",
      " |      as ``n_samples / (n_classes * np.bincount(y))``.\n",
      " |  \n",
      " |      Note that these weights will be multiplied with sample_weight (passed\n",
      " |      through the fit method) if sample_weight is specified.\n",
      " |  \n",
      " |      .. versionadded:: 0.17\n",
      " |         *class_weight='balanced'*\n",
      " |  \n",
      " |  random_state : int, RandomState instance, default=None\n",
      " |      Used when ``solver`` == 'sag', 'saga' or 'liblinear' to shuffle the\n",
      " |      data. See :term:`Glossary <random_state>` for details.\n",
      " |  \n",
      " |  solver : {'lbfgs', 'liblinear', 'newton-cg', 'newton-cholesky', 'sag', 'saga'},             default='lbfgs'\n",
      " |  \n",
      " |      Algorithm to use in the optimization problem. Default is 'lbfgs'.\n",
      " |      To choose a solver, you might want to consider the following aspects:\n",
      " |  \n",
      " |          - For small datasets, 'liblinear' is a good choice, whereas 'sag'\n",
      " |            and 'saga' are faster for large ones;\n",
      " |          - For multiclass problems, only 'newton-cg', 'sag', 'saga' and\n",
      " |            'lbfgs' handle multinomial loss;\n",
      " |          - 'liblinear' is limited to one-versus-rest schemes.\n",
      " |          - 'newton-cholesky' is a good choice for `n_samples` >> `n_features`,\n",
      " |            especially with one-hot encoded categorical features with rare\n",
      " |            categories. Note that it is limited to binary classification and the\n",
      " |            one-versus-rest reduction for multiclass classification. Be aware that\n",
      " |            the memory usage of this solver has a quadratic dependency on\n",
      " |            `n_features` because it explicitly computes the Hessian matrix.\n",
      " |  \n",
      " |      .. warning::\n",
      " |         The choice of the algorithm depends on the penalty chosen.\n",
      " |         Supported penalties by solver:\n",
      " |  \n",
      " |         - 'lbfgs'           -   ['l2', None]\n",
      " |         - 'liblinear'       -   ['l1', 'l2']\n",
      " |         - 'newton-cg'       -   ['l2', None]\n",
      " |         - 'newton-cholesky' -   ['l2', None]\n",
      " |         - 'sag'             -   ['l2', None]\n",
      " |         - 'saga'            -   ['elasticnet', 'l1', 'l2', None]\n",
      " |  \n",
      " |      .. note::\n",
      " |         'sag' and 'saga' fast convergence is only guaranteed on features\n",
      " |         with approximately the same scale. You can preprocess the data with\n",
      " |         a scaler from :mod:`sklearn.preprocessing`.\n",
      " |  \n",
      " |      .. seealso::\n",
      " |         Refer to the User Guide for more information regarding\n",
      " |         :class:`LogisticRegression` and more specifically the\n",
      " |         :ref:`Table <Logistic_regression>`\n",
      " |         summarizing solver/penalty supports.\n",
      " |  \n",
      " |      .. versionadded:: 0.17\n",
      " |         Stochastic Average Gradient descent solver.\n",
      " |      .. versionadded:: 0.19\n",
      " |         SAGA solver.\n",
      " |      .. versionchanged:: 0.22\n",
      " |          The default solver changed from 'liblinear' to 'lbfgs' in 0.22.\n",
      " |      .. versionadded:: 1.2\n",
      " |         newton-cholesky solver.\n",
      " |  \n",
      " |  max_iter : int, default=100\n",
      " |      Maximum number of iterations taken for the solvers to converge.\n",
      " |  \n",
      " |  multi_class : {'auto', 'ovr', 'multinomial'}, default='auto'\n",
      " |      If the option chosen is 'ovr', then a binary problem is fit for each\n",
      " |      label. For 'multinomial' the loss minimised is the multinomial loss fit\n",
      " |      across the entire probability distribution, *even when the data is\n",
      " |      binary*. 'multinomial' is unavailable when solver='liblinear'.\n",
      " |      'auto' selects 'ovr' if the data is binary, or if solver='liblinear',\n",
      " |      and otherwise selects 'multinomial'.\n",
      " |  \n",
      " |      .. versionadded:: 0.18\n",
      " |         Stochastic Average Gradient descent solver for 'multinomial' case.\n",
      " |      .. versionchanged:: 0.22\n",
      " |          Default changed from 'ovr' to 'auto' in 0.22.\n",
      " |  \n",
      " |  verbose : int, default=0\n",
      " |      For the liblinear and lbfgs solvers set verbose to any positive\n",
      " |      number for verbosity.\n",
      " |  \n",
      " |  warm_start : bool, default=False\n",
      " |      When set to True, reuse the solution of the previous call to fit as\n",
      " |      initialization, otherwise, just erase the previous solution.\n",
      " |      Useless for liblinear solver. See :term:`the Glossary <warm_start>`.\n",
      " |  \n",
      " |      .. versionadded:: 0.17\n",
      " |         *warm_start* to support *lbfgs*, *newton-cg*, *sag*, *saga* solvers.\n",
      " |  \n",
      " |  n_jobs : int, default=None\n",
      " |      Number of CPU cores used when parallelizing over classes if\n",
      " |      multi_class='ovr'\". This parameter is ignored when the ``solver`` is\n",
      " |      set to 'liblinear' regardless of whether 'multi_class' is specified or\n",
      " |      not. ``None`` means 1 unless in a :obj:`joblib.parallel_backend`\n",
      " |      context. ``-1`` means using all processors.\n",
      " |      See :term:`Glossary <n_jobs>` for more details.\n",
      " |  \n",
      " |  l1_ratio : float, default=None\n",
      " |      The Elastic-Net mixing parameter, with ``0 <= l1_ratio <= 1``. Only\n",
      " |      used if ``penalty='elasticnet'``. Setting ``l1_ratio=0`` is equivalent\n",
      " |      to using ``penalty='l2'``, while setting ``l1_ratio=1`` is equivalent\n",
      " |      to using ``penalty='l1'``. For ``0 < l1_ratio <1``, the penalty is a\n",
      " |      combination of L1 and L2.\n",
      " |  \n",
      " |  Attributes\n",
      " |  ----------\n",
      " |  \n",
      " |  classes_ : ndarray of shape (n_classes, )\n",
      " |      A list of class labels known to the classifier.\n",
      " |  \n",
      " |  coef_ : ndarray of shape (1, n_features) or (n_classes, n_features)\n",
      " |      Coefficient of the features in the decision function.\n",
      " |  \n",
      " |      `coef_` is of shape (1, n_features) when the given problem is binary.\n",
      " |      In particular, when `multi_class='multinomial'`, `coef_` corresponds\n",
      " |      to outcome 1 (True) and `-coef_` corresponds to outcome 0 (False).\n",
      " |  \n",
      " |  intercept_ : ndarray of shape (1,) or (n_classes,)\n",
      " |      Intercept (a.k.a. bias) added to the decision function.\n",
      " |  \n",
      " |      If `fit_intercept` is set to False, the intercept is set to zero.\n",
      " |      `intercept_` is of shape (1,) when the given problem is binary.\n",
      " |      In particular, when `multi_class='multinomial'`, `intercept_`\n",
      " |      corresponds to outcome 1 (True) and `-intercept_` corresponds to\n",
      " |      outcome 0 (False).\n",
      " |  \n",
      " |  n_features_in_ : int\n",
      " |      Number of features seen during :term:`fit`.\n",
      " |  \n",
      " |      .. versionadded:: 0.24\n",
      " |  \n",
      " |  feature_names_in_ : ndarray of shape (`n_features_in_`,)\n",
      " |      Names of features seen during :term:`fit`. Defined only when `X`\n",
      " |      has feature names that are all strings.\n",
      " |  \n",
      " |      .. versionadded:: 1.0\n",
      " |  \n",
      " |  n_iter_ : ndarray of shape (n_classes,) or (1, )\n",
      " |      Actual number of iterations for all classes. If binary or multinomial,\n",
      " |      it returns only 1 element. For liblinear solver, only the maximum\n",
      " |      number of iteration across all classes is given.\n",
      " |  \n",
      " |      .. versionchanged:: 0.20\n",
      " |  \n",
      " |          In SciPy <= 1.0.0 the number of lbfgs iterations may exceed\n",
      " |          ``max_iter``. ``n_iter_`` will now report at most ``max_iter``.\n",
      " |  \n",
      " |  See Also\n",
      " |  --------\n",
      " |  SGDClassifier : Incrementally trained logistic regression (when given\n",
      " |      the parameter ``loss=\"log\"``).\n",
      " |  LogisticRegressionCV : Logistic regression with built-in cross validation.\n",
      " |  \n",
      " |  Notes\n",
      " |  -----\n",
      " |  The underlying C implementation uses a random number generator to\n",
      " |  select features when fitting the model. It is thus not uncommon,\n",
      " |  to have slightly different results for the same input data. If\n",
      " |  that happens, try with a smaller tol parameter.\n",
      " |  \n",
      " |  Predict output may not match that of standalone liblinear in certain\n",
      " |  cases. See :ref:`differences from liblinear <liblinear_differences>`\n",
      " |  in the narrative documentation.\n",
      " |  \n",
      " |  References\n",
      " |  ----------\n",
      " |  \n",
      " |  L-BFGS-B -- Software for Large-scale Bound-constrained Optimization\n",
      " |      Ciyou Zhu, Richard Byrd, Jorge Nocedal and Jose Luis Morales.\n",
      " |      http://users.iems.northwestern.edu/~nocedal/lbfgsb.html\n",
      " |  \n",
      " |  LIBLINEAR -- A Library for Large Linear Classification\n",
      " |      https://www.csie.ntu.edu.tw/~cjlin/liblinear/\n",
      " |  \n",
      " |  SAG -- Mark Schmidt, Nicolas Le Roux, and Francis Bach\n",
      " |      Minimizing Finite Sums with the Stochastic Average Gradient\n",
      " |      https://hal.inria.fr/hal-00860051/document\n",
      " |  \n",
      " |  SAGA -- Defazio, A., Bach F. & Lacoste-Julien S. (2014).\n",
      " |          :arxiv:`\"SAGA: A Fast Incremental Gradient Method With Support\n",
      " |          for Non-Strongly Convex Composite Objectives\" <1407.0202>`\n",
      " |  \n",
      " |  Hsiang-Fu Yu, Fang-Lan Huang, Chih-Jen Lin (2011). Dual coordinate descent\n",
      " |      methods for logistic regression and maximum entropy models.\n",
      " |      Machine Learning 85(1-2):41-75.\n",
      " |      https://www.csie.ntu.edu.tw/~cjlin/papers/maxent_dual.pdf\n",
      " |  \n",
      " |  Examples\n",
      " |  --------\n",
      " |  >>> from sklearn.datasets import load_iris\n",
      " |  >>> from sklearn.linear_model import LogisticRegression\n",
      " |  >>> X, y = load_iris(return_X_y=True)\n",
      " |  >>> clf = LogisticRegression(random_state=0).fit(X, y)\n",
      " |  >>> clf.predict(X[:2, :])\n",
      " |  array([0, 0])\n",
      " |  >>> clf.predict_proba(X[:2, :])\n",
      " |  array([[9.8...e-01, 1.8...e-02, 1.4...e-08],\n",
      " |         [9.7...e-01, 2.8...e-02, ...e-08]])\n",
      " |  >>> clf.score(X, y)\n",
      " |  0.97...\n",
      " |  \n",
      " |  Method resolution order:\n",
      " |      LogisticRegression\n",
      " |      sklearn.linear_model._base.LinearClassifierMixin\n",
      " |      sklearn.base.ClassifierMixin\n",
      " |      sklearn.linear_model._base.SparseCoefMixin\n",
      " |      sklearn.base.BaseEstimator\n",
      " |      builtins.object\n",
      " |  \n",
      " |  Methods defined here:\n",
      " |  \n",
      " |  __init__(self, penalty='l2', *, dual=False, tol=0.0001, C=1.0, fit_intercept=True, intercept_scaling=1, class_weight=None, random_state=None, solver='lbfgs', max_iter=100, multi_class='auto', verbose=0, warm_start=False, n_jobs=None, l1_ratio=None)\n",
      " |      Initialize self.  See help(type(self)) for accurate signature.\n",
      " |  \n",
      " |  fit(self, X, y, sample_weight=None)\n",
      " |      Fit the model according to the given training data.\n",
      " |      \n",
      " |      Parameters\n",
      " |      ----------\n",
      " |      X : {array-like, sparse matrix} of shape (n_samples, n_features)\n",
      " |          Training vector, where `n_samples` is the number of samples and\n",
      " |          `n_features` is the number of features.\n",
      " |      \n",
      " |      y : array-like of shape (n_samples,)\n",
      " |          Target vector relative to X.\n",
      " |      \n",
      " |      sample_weight : array-like of shape (n_samples,) default=None\n",
      " |          Array of weights that are assigned to individual samples.\n",
      " |          If not provided, then each sample is given unit weight.\n",
      " |      \n",
      " |          .. versionadded:: 0.17\n",
      " |             *sample_weight* support to LogisticRegression.\n",
      " |      \n",
      " |      Returns\n",
      " |      -------\n",
      " |      self\n",
      " |          Fitted estimator.\n",
      " |      \n",
      " |      Notes\n",
      " |      -----\n",
      " |      The SAGA solver supports both float64 and float32 bit arrays.\n",
      " |  \n",
      " |  predict_log_proba(self, X)\n",
      " |      Predict logarithm of probability estimates.\n",
      " |      \n",
      " |      The returned estimates for all classes are ordered by the\n",
      " |      label of classes.\n",
      " |      \n",
      " |      Parameters\n",
      " |      ----------\n",
      " |      X : array-like of shape (n_samples, n_features)\n",
      " |          Vector to be scored, where `n_samples` is the number of samples and\n",
      " |          `n_features` is the number of features.\n",
      " |      \n",
      " |      Returns\n",
      " |      -------\n",
      " |      T : array-like of shape (n_samples, n_classes)\n",
      " |          Returns the log-probability of the sample for each class in the\n",
      " |          model, where classes are ordered as they are in ``self.classes_``.\n",
      " |  \n",
      " |  predict_proba(self, X)\n",
      " |      Probability estimates.\n",
      " |      \n",
      " |      The returned estimates for all classes are ordered by the\n",
      " |      label of classes.\n",
      " |      \n",
      " |      For a multi_class problem, if multi_class is set to be \"multinomial\"\n",
      " |      the softmax function is used to find the predicted probability of\n",
      " |      each class.\n",
      " |      Else use a one-vs-rest approach, i.e calculate the probability\n",
      " |      of each class assuming it to be positive using the logistic function.\n",
      " |      and normalize these values across all the classes.\n",
      " |      \n",
      " |      Parameters\n",
      " |      ----------\n",
      " |      X : array-like of shape (n_samples, n_features)\n",
      " |          Vector to be scored, where `n_samples` is the number of samples and\n",
      " |          `n_features` is the number of features.\n",
      " |      \n",
      " |      Returns\n",
      " |      -------\n",
      " |      T : array-like of shape (n_samples, n_classes)\n",
      " |          Returns the probability of the sample for each class in the model,\n",
      " |          where classes are ordered as they are in ``self.classes_``.\n",
      " |  \n",
      " |  ----------------------------------------------------------------------\n",
      " |  Data and other attributes defined here:\n",
      " |  \n",
      " |  __annotations__ = {'_parameter_constraints': <class 'dict'>}\n",
      " |  \n",
      " |  ----------------------------------------------------------------------\n",
      " |  Methods inherited from sklearn.linear_model._base.LinearClassifierMixin:\n",
      " |  \n",
      " |  decision_function(self, X)\n",
      " |      Predict confidence scores for samples.\n",
      " |      \n",
      " |      The confidence score for a sample is proportional to the signed\n",
      " |      distance of that sample to the hyperplane.\n",
      " |      \n",
      " |      Parameters\n",
      " |      ----------\n",
      " |      X : {array-like, sparse matrix} of shape (n_samples, n_features)\n",
      " |          The data matrix for which we want to get the confidence scores.\n",
      " |      \n",
      " |      Returns\n",
      " |      -------\n",
      " |      scores : ndarray of shape (n_samples,) or (n_samples, n_classes)\n",
      " |          Confidence scores per `(n_samples, n_classes)` combination. In the\n",
      " |          binary case, confidence score for `self.classes_[1]` where >0 means\n",
      " |          this class would be predicted.\n",
      " |  \n",
      " |  predict(self, X)\n",
      " |      Predict class labels for samples in X.\n",
      " |      \n",
      " |      Parameters\n",
      " |      ----------\n",
      " |      X : {array-like, sparse matrix} of shape (n_samples, n_features)\n",
      " |          The data matrix for which we want to get the predictions.\n",
      " |      \n",
      " |      Returns\n",
      " |      -------\n",
      " |      y_pred : ndarray of shape (n_samples,)\n",
      " |          Vector containing the class labels for each sample.\n",
      " |  \n",
      " |  ----------------------------------------------------------------------\n",
      " |  Methods inherited from sklearn.base.ClassifierMixin:\n",
      " |  \n",
      " |  score(self, X, y, sample_weight=None)\n",
      " |      Return the mean accuracy on the given test data and labels.\n",
      " |      \n",
      " |      In multi-label classification, this is the subset accuracy\n",
      " |      which is a harsh metric since you require for each sample that\n",
      " |      each label set be correctly predicted.\n",
      " |      \n",
      " |      Parameters\n",
      " |      ----------\n",
      " |      X : array-like of shape (n_samples, n_features)\n",
      " |          Test samples.\n",
      " |      \n",
      " |      y : array-like of shape (n_samples,) or (n_samples, n_outputs)\n",
      " |          True labels for `X`.\n",
      " |      \n",
      " |      sample_weight : array-like of shape (n_samples,), default=None\n",
      " |          Sample weights.\n",
      " |      \n",
      " |      Returns\n",
      " |      -------\n",
      " |      score : float\n",
      " |          Mean accuracy of ``self.predict(X)`` w.r.t. `y`.\n",
      " |  \n",
      " |  ----------------------------------------------------------------------\n",
      " |  Data descriptors inherited from sklearn.base.ClassifierMixin:\n",
      " |  \n",
      " |  __dict__\n",
      " |      dictionary for instance variables (if defined)\n",
      " |  \n",
      " |  __weakref__\n",
      " |      list of weak references to the object (if defined)\n",
      " |  \n",
      " |  ----------------------------------------------------------------------\n",
      " |  Methods inherited from sklearn.linear_model._base.SparseCoefMixin:\n",
      " |  \n",
      " |  densify(self)\n",
      " |      Convert coefficient matrix to dense array format.\n",
      " |      \n",
      " |      Converts the ``coef_`` member (back) to a numpy.ndarray. This is the\n",
      " |      default format of ``coef_`` and is required for fitting, so calling\n",
      " |      this method is only required on models that have previously been\n",
      " |      sparsified; otherwise, it is a no-op.\n",
      " |      \n",
      " |      Returns\n",
      " |      -------\n",
      " |      self\n",
      " |          Fitted estimator.\n",
      " |  \n",
      " |  sparsify(self)\n",
      " |      Convert coefficient matrix to sparse format.\n",
      " |      \n",
      " |      Converts the ``coef_`` member to a scipy.sparse matrix, which for\n",
      " |      L1-regularized models can be much more memory- and storage-efficient\n",
      " |      than the usual numpy.ndarray representation.\n",
      " |      \n",
      " |      The ``intercept_`` member is not converted.\n",
      " |      \n",
      " |      Returns\n",
      " |      -------\n",
      " |      self\n",
      " |          Fitted estimator.\n",
      " |      \n",
      " |      Notes\n",
      " |      -----\n",
      " |      For non-sparse models, i.e. when there are not many zeros in ``coef_``,\n",
      " |      this may actually *increase* memory usage, so use this method with\n",
      " |      care. A rule of thumb is that the number of zero elements, which can\n",
      " |      be computed with ``(coef_ == 0).sum()``, must be more than 50% for this\n",
      " |      to provide significant benefits.\n",
      " |      \n",
      " |      After calling this method, further fitting with the partial_fit\n",
      " |      method (if any) will not work until you call densify.\n",
      " |  \n",
      " |  ----------------------------------------------------------------------\n",
      " |  Methods inherited from sklearn.base.BaseEstimator:\n",
      " |  \n",
      " |  __getstate__(self)\n",
      " |  \n",
      " |  __repr__(self, N_CHAR_MAX=700)\n",
      " |      Return repr(self).\n",
      " |  \n",
      " |  __setstate__(self, state)\n",
      " |  \n",
      " |  get_params(self, deep=True)\n",
      " |      Get parameters for this estimator.\n",
      " |      \n",
      " |      Parameters\n",
      " |      ----------\n",
      " |      deep : bool, default=True\n",
      " |          If True, will return the parameters for this estimator and\n",
      " |          contained subobjects that are estimators.\n",
      " |      \n",
      " |      Returns\n",
      " |      -------\n",
      " |      params : dict\n",
      " |          Parameter names mapped to their values.\n",
      " |  \n",
      " |  set_params(self, **params)\n",
      " |      Set the parameters of this estimator.\n",
      " |      \n",
      " |      The method works on simple estimators as well as on nested objects\n",
      " |      (such as :class:`~sklearn.pipeline.Pipeline`). The latter have\n",
      " |      parameters of the form ``<component>__<parameter>`` so that it's\n",
      " |      possible to update each component of a nested object.\n",
      " |      \n",
      " |      Parameters\n",
      " |      ----------\n",
      " |      **params : dict\n",
      " |          Estimator parameters.\n",
      " |      \n",
      " |      Returns\n",
      " |      -------\n",
      " |      self : estimator instance\n",
      " |          Estimator instance.\n",
      "\n"
     ]
    }
   ],
   "source": [
    "help(serialized_object)"
   ]
  },
  {
   "cell_type": "code",
   "execution_count": 44,
   "metadata": {
    "colab": {
     "base_uri": "https://localhost:8080/",
     "height": 668
    },
    "id": "m8I8NLtv1hxq",
    "outputId": "c5bcc989-4479-4ca7-cf64-8a8893f09db5"
   },
   "outputs": [
    {
     "ename": "PythonException",
     "evalue": "\n  An exception was thrown from the Python worker. Please see the stack trace below.\nTraceback (most recent call last):\n  File \"<ipython-input-44-c98562616cbb>\", line 6, in custom_fun\n  File \"/usr/local/lib/python3.10/dist-packages/sklearn/linear_model/_logistic.py\", line 1372, in predict_proba\n    return super()._predict_proba_lr(X)\n  File \"/usr/local/lib/python3.10/dist-packages/sklearn/linear_model/_base.py\", line 434, in _predict_proba_lr\n    prob = self.decision_function(X)\n  File \"/usr/local/lib/python3.10/dist-packages/sklearn/linear_model/_base.py\", line 400, in decision_function\n    X = self._validate_data(X, accept_sparse=\"csr\", reset=False)\n  File \"/usr/local/lib/python3.10/dist-packages/sklearn/base.py\", line 588, in _validate_data\n    self._check_n_features(X, reset=reset)\n  File \"/usr/local/lib/python3.10/dist-packages/sklearn/base.py\", line 389, in _check_n_features\n    raise ValueError(\nValueError: X has 2 features, but LogisticRegression is expecting 4 features as input.\n",
     "output_type": "error",
     "traceback": [
      "\u001b[0;31m---------------------------------------------------------------------------\u001b[0m",
      "\u001b[0;31mPythonException\u001b[0m                           Traceback (most recent call last)",
      "\u001b[0;32m<ipython-input-44-c98562616cbb>\u001b[0m in \u001b[0;36m<cell line: 23>\u001b[0;34m()\u001b[0m\n\u001b[1;32m     21\u001b[0m \u001b[0;34m\u001b[0m\u001b[0m\n\u001b[1;32m     22\u001b[0m \u001b[0;31m# Mostrar un ejemplo de cómo se aplica la función UDF\u001b[0m\u001b[0;34m\u001b[0m\u001b[0;34m\u001b[0m\u001b[0m\n\u001b[0;32m---> 23\u001b[0;31m \u001b[0mdf\u001b[0m\u001b[0;34m.\u001b[0m\u001b[0mshow\u001b[0m\u001b[0;34m(\u001b[0m\u001b[0;34m)\u001b[0m\u001b[0;34m\u001b[0m\u001b[0;34m\u001b[0m\u001b[0m\n\u001b[0m",
      "\u001b[0;32m/usr/local/lib/python3.10/dist-packages/pyspark/sql/dataframe.py\u001b[0m in \u001b[0;36mshow\u001b[0;34m(self, n, truncate, vertical)\u001b[0m\n\u001b[1;32m    943\u001b[0m         \u001b[0mname\u001b[0m \u001b[0;34m|\u001b[0m \u001b[0mBob\u001b[0m\u001b[0;34m\u001b[0m\u001b[0;34m\u001b[0m\u001b[0m\n\u001b[1;32m    944\u001b[0m         \"\"\"\n\u001b[0;32m--> 945\u001b[0;31m         \u001b[0mprint\u001b[0m\u001b[0;34m(\u001b[0m\u001b[0mself\u001b[0m\u001b[0;34m.\u001b[0m\u001b[0m_show_string\u001b[0m\u001b[0;34m(\u001b[0m\u001b[0mn\u001b[0m\u001b[0;34m,\u001b[0m \u001b[0mtruncate\u001b[0m\u001b[0;34m,\u001b[0m \u001b[0mvertical\u001b[0m\u001b[0;34m)\u001b[0m\u001b[0;34m)\u001b[0m\u001b[0;34m\u001b[0m\u001b[0;34m\u001b[0m\u001b[0m\n\u001b[0m\u001b[1;32m    946\u001b[0m \u001b[0;34m\u001b[0m\u001b[0m\n\u001b[1;32m    947\u001b[0m     def _show_string(\n",
      "\u001b[0;32m/usr/local/lib/python3.10/dist-packages/pyspark/sql/dataframe.py\u001b[0m in \u001b[0;36m_show_string\u001b[0;34m(self, n, truncate, vertical)\u001b[0m\n\u001b[1;32m    961\u001b[0m \u001b[0;34m\u001b[0m\u001b[0m\n\u001b[1;32m    962\u001b[0m         \u001b[0;32mif\u001b[0m \u001b[0misinstance\u001b[0m\u001b[0;34m(\u001b[0m\u001b[0mtruncate\u001b[0m\u001b[0;34m,\u001b[0m \u001b[0mbool\u001b[0m\u001b[0;34m)\u001b[0m \u001b[0;32mand\u001b[0m \u001b[0mtruncate\u001b[0m\u001b[0;34m:\u001b[0m\u001b[0;34m\u001b[0m\u001b[0;34m\u001b[0m\u001b[0m\n\u001b[0;32m--> 963\u001b[0;31m             \u001b[0;32mreturn\u001b[0m \u001b[0mself\u001b[0m\u001b[0;34m.\u001b[0m\u001b[0m_jdf\u001b[0m\u001b[0;34m.\u001b[0m\u001b[0mshowString\u001b[0m\u001b[0;34m(\u001b[0m\u001b[0mn\u001b[0m\u001b[0;34m,\u001b[0m \u001b[0;36m20\u001b[0m\u001b[0;34m,\u001b[0m \u001b[0mvertical\u001b[0m\u001b[0;34m)\u001b[0m\u001b[0;34m\u001b[0m\u001b[0;34m\u001b[0m\u001b[0m\n\u001b[0m\u001b[1;32m    964\u001b[0m         \u001b[0;32melse\u001b[0m\u001b[0;34m:\u001b[0m\u001b[0;34m\u001b[0m\u001b[0;34m\u001b[0m\u001b[0m\n\u001b[1;32m    965\u001b[0m             \u001b[0;32mtry\u001b[0m\u001b[0;34m:\u001b[0m\u001b[0;34m\u001b[0m\u001b[0;34m\u001b[0m\u001b[0m\n",
      "\u001b[0;32m/usr/local/lib/python3.10/dist-packages/py4j/java_gateway.py\u001b[0m in \u001b[0;36m__call__\u001b[0;34m(self, *args)\u001b[0m\n\u001b[1;32m   1320\u001b[0m \u001b[0;34m\u001b[0m\u001b[0m\n\u001b[1;32m   1321\u001b[0m         \u001b[0manswer\u001b[0m \u001b[0;34m=\u001b[0m \u001b[0mself\u001b[0m\u001b[0;34m.\u001b[0m\u001b[0mgateway_client\u001b[0m\u001b[0;34m.\u001b[0m\u001b[0msend_command\u001b[0m\u001b[0;34m(\u001b[0m\u001b[0mcommand\u001b[0m\u001b[0;34m)\u001b[0m\u001b[0;34m\u001b[0m\u001b[0;34m\u001b[0m\u001b[0m\n\u001b[0;32m-> 1322\u001b[0;31m         return_value = get_return_value(\n\u001b[0m\u001b[1;32m   1323\u001b[0m             answer, self.gateway_client, self.target_id, self.name)\n\u001b[1;32m   1324\u001b[0m \u001b[0;34m\u001b[0m\u001b[0m\n",
      "\u001b[0;32m/usr/local/lib/python3.10/dist-packages/pyspark/errors/exceptions/captured.py\u001b[0m in \u001b[0;36mdeco\u001b[0;34m(*a, **kw)\u001b[0m\n\u001b[1;32m    183\u001b[0m                 \u001b[0;31m# Hide where the exception came from that shows a non-Pythonic\u001b[0m\u001b[0;34m\u001b[0m\u001b[0;34m\u001b[0m\u001b[0m\n\u001b[1;32m    184\u001b[0m                 \u001b[0;31m# JVM exception message.\u001b[0m\u001b[0;34m\u001b[0m\u001b[0;34m\u001b[0m\u001b[0m\n\u001b[0;32m--> 185\u001b[0;31m                 \u001b[0;32mraise\u001b[0m \u001b[0mconverted\u001b[0m \u001b[0;32mfrom\u001b[0m \u001b[0;32mNone\u001b[0m\u001b[0;34m\u001b[0m\u001b[0;34m\u001b[0m\u001b[0m\n\u001b[0m\u001b[1;32m    186\u001b[0m             \u001b[0;32melse\u001b[0m\u001b[0;34m:\u001b[0m\u001b[0;34m\u001b[0m\u001b[0;34m\u001b[0m\u001b[0m\n\u001b[1;32m    187\u001b[0m                 \u001b[0;32mraise\u001b[0m\u001b[0;34m\u001b[0m\u001b[0;34m\u001b[0m\u001b[0m\n",
      "\u001b[0;31mPythonException\u001b[0m: \n  An exception was thrown from the Python worker. Please see the stack trace below.\nTraceback (most recent call last):\n  File \"<ipython-input-44-c98562616cbb>\", line 6, in custom_fun\n  File \"/usr/local/lib/python3.10/dist-packages/sklearn/linear_model/_logistic.py\", line 1372, in predict_proba\n    return super()._predict_proba_lr(X)\n  File \"/usr/local/lib/python3.10/dist-packages/sklearn/linear_model/_base.py\", line 434, in _predict_proba_lr\n    prob = self.decision_function(X)\n  File \"/usr/local/lib/python3.10/dist-packages/sklearn/linear_model/_base.py\", line 400, in decision_function\n    X = self._validate_data(X, accept_sparse=\"csr\", reset=False)\n  File \"/usr/local/lib/python3.10/dist-packages/sklearn/base.py\", line 588, in _validate_data\n    self._check_n_features(X, reset=reset)\n  File \"/usr/local/lib/python3.10/dist-packages/sklearn/base.py\", line 389, in _check_n_features\n    raise ValueError(\nValueError: X has 2 features, but LogisticRegression is expecting 4 features as input.\n"
     ]
    }
   ],
   "source": [
    "## 3.- Crear una función personalizada\n",
    "def custom_fun(col1,col2,col3,col4):\n",
    "    ## Crear matriz de entrada\n",
    "    input_data = np.array([1,4]).reshape(1, -1)\n",
    "    print(col1,col2,col3,col4)\n",
    "    return serialized_object.predict_proba(input_data)[-1]\n",
    "\n",
    "# Paso 4: Definir la función UDF\n",
    "udf_predict_probability = udf(custom_fun, FloatType())\n",
    "\n",
    "# Paso 5: Generar una nueva columna\n",
    "# Supongamos que tienes un DataFrame llamado df que contiene los datos de transacción\n",
    "# Agregaremos una nueva columna llamada \"prediction\" que contendrá la probabilidad predicha de fraude\n",
    "# Utilizaremos la función UDF para aplicar la predicción a las columnas relevantes\n",
    "df = df.withColumn(\"prediction\", udf_predict_probability(\n",
    "    df['Transaction Amount'],\n",
    "    df['Quantity'],\n",
    "    df['Customer Age'],\n",
    "    df['Transaction Hour']\n",
    "))\n",
    "\n",
    "# Mostrar un ejemplo de cómo se aplica la función UDF\n",
    "df.show()"
   ]
  }
 ],
 "metadata": {
  "colab": {
   "provenance": []
  },
  "kernelspec": {
   "display_name": "Python 3 (ipykernel)",
   "language": "python",
   "name": "python3"
  },
  "language_info": {
   "codemirror_mode": {
    "name": "ipython",
    "version": 3
   },
   "file_extension": ".py",
   "mimetype": "text/x-python",
   "name": "python",
   "nbconvert_exporter": "python",
   "pygments_lexer": "ipython3",
   "version": "3.10.9"
  }
 },
 "nbformat": 4,
 "nbformat_minor": 1
}
